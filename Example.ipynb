{
 "cells": [
  {
   "cell_type": "code",
   "execution_count": null,
   "metadata": {},
   "outputs": [],
   "source": [
    "import json\n",
    "import jq\n",
    "from jaiqu import validate_schema, translate_schema"
   ]
  },
  {
   "cell_type": "markdown",
   "metadata": {},
   "source": [
    "### Desired data format \n",
    "\n",
    "Create a `jsonschema` dictionary for the format of data you want. Data extracted from your input will be extracted into this format."
   ]
  },
  {
   "cell_type": "code",
   "execution_count": null,
   "metadata": {},
   "outputs": [],
   "source": [
    "schema = {\n",
    "    \"$schema\": \"http://json-schema.org/draft-07/schema#\",\n",
    "    \"type\": \"object\",\n",
    "    \"properties\": {\n",
    "        \"id\": {\n",
    "            \"type\": [\"string\", \"null\"],\n",
    "            \"description\": \"A unique identifier for the record.\"\n",
    "        },\n",
    "        \"date\": {\n",
    "            \"type\": \"string\",\n",
    "            \"description\": \"A string describing the date.\"\n",
    "        },\n",
    "        \"model\": {\n",
    "            \"type\": \"string\",\n",
    "            \"description\": \"A text field representing the model used.\"\n",
    "        }\n",
    "    },\n",
    "    \"required\": [\n",
    "        \"id\",\n",
    "        \"date\"\n",
    "    ]\n",
    "}"
   ]
  },
  {
   "cell_type": "markdown",
   "metadata": {},
   "source": [
    "### Sample input data\n",
    "Provoide an input JSON dictionary containing the data you want to extract."
   ]
  },
  {
   "cell_type": "code",
   "execution_count": null,
   "metadata": {},
   "outputs": [],
   "source": [
    "input_json = {\n",
    "    \"call.id\": \"123\",\n",
    "    \"datetime\": \"2022-01-01\",\n",
    "    \"timestamp\": 1640995200,\n",
    "    \"Address\": \"123 Main St\",\n",
    "    \"user\": {\n",
    "        \"name\": \"John Doe\",\n",
    "        \"age\": 30,\n",
    "        \"contact\": \"john@email.com\"\n",
    "    }\n",
    "}"
   ]
  },
  {
   "cell_type": "markdown",
   "metadata": {},
   "source": [
    "### (Optional) Create hints\n",
    "The jaiqu agent may not know certain concepts. For example, you might want to have some keys interpreted a certain way (i.e. interpret \"contact\" as \"email\"). For tricky interpretations, create hints."
   ]
  },
  {
   "cell_type": "code",
   "execution_count": null,
   "metadata": {},
   "outputs": [],
   "source": [
    "key_hints = \"We are processing outputs of an containing an id and a date of a user.\""
   ]
  },
  {
   "cell_type": "code",
   "execution_count": null,
   "metadata": {},
   "outputs": [],
   "source": [
    "schema_properties, valid = validate_schema(input_json, schema, key_hints=key_hints, openai_api_key='key')"
   ]
  },
  {
   "cell_type": "markdown",
   "metadata": {},
   "source": [
    "### Verify schema\n",
    "Verify the input JSON contains the keys and values requested in your schema"
   ]
  },
  {
   "cell_type": "code",
   "execution_count": null,
   "metadata": {},
   "outputs": [],
   "source": [
    "print('Schema is valid:',valid)\n",
    "print('-'*10)\n",
    "print(json.dumps(schema_properties, indent=2))"
   ]
  },
  {
   "cell_type": "code",
   "execution_count": null,
   "metadata": {},
   "outputs": [],
   "source": [
    "jq_query = translate_schema(input_json, schema, key_hints=key_hints, max_retries=20, openai_api_key='key')"
   ]
  },
  {
   "cell_type": "markdown",
   "metadata": {},
   "source": [
    "## Finalized jq query"
   ]
  },
  {
   "cell_type": "code",
   "execution_count": null,
   "metadata": {},
   "outputs": [],
   "source": [
    "jq_query"
   ]
  },
  {
   "cell_type": "markdown",
   "metadata": {},
   "source": [
    "### Check the jq query results"
   ]
  },
  {
   "cell_type": "code",
   "execution_count": null,
   "metadata": {
    "scrolled": true
   },
   "outputs": [],
   "source": [
    "result = jq.compile(jq_query).input(input_json).all()\n",
    "print(jq.compile(jq_query).input(input_json).all())"
   ]
  },
  {
   "cell_type": "code",
   "execution_count": null,
   "metadata": {},
   "outputs": [],
   "source": []
  }
 ],
 "metadata": {
  "kernelspec": {
   "display_name": "Python 3 (ipykernel)",
   "language": "python",
   "name": "python3"
  },
  "language_info": {
   "codemirror_mode": {
    "name": "ipython",
    "version": 3
   },
   "file_extension": ".py",
   "mimetype": "text/x-python",
   "name": "python",
   "nbconvert_exporter": "python",
   "pygments_lexer": "ipython3",
   "version": "3.11.5"
  }
 },
 "nbformat": 4,
 "nbformat_minor": 2
}
