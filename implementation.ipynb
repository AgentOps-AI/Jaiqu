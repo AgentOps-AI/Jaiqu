{
 "cells": [
  {
   "cell_type": "code",
   "execution_count": null,
   "metadata": {},
   "outputs": [],
   "source": [
    "!pip install -r requirements.txt\n",
    "!pip install jaiqu\n",
    "\n",
    "#TODO update so that validate_schema is available on init\n",
    "#TODO from jaiqu import validate_schema, translate_schema\n",
    "from jaiqu.jaiqu import validate_schema, translate_schema\n",
    "from jaiqu import set_openai_key\n",
    "set_openai_key(openai_api_key=\"<YOUR_OPENAI_API_KEY>\")"
   ]
  },
  {
   "cell_type": "code",
   "execution_count": null,
   "metadata": {},
   "outputs": [],
   "source": [
    "# TODO: Get from files\n",
    "# Desired data format \n",
    "schema = {\n",
    "    \"$schema\": \"http://json-schema.org/draft-07/schema#\",\n",
    "    \"type\": \"object\",\n",
    "    \"properties\": {\n",
    "        \"id\": {\n",
    "            \"type\": [\"string\", \"null\"],\n",
    "            \"description\": \"A unique identifier for the record.\"\n",
    "        },\n",
    "        \"date\": {\n",
    "            \"type\": \"string\",\n",
    "            \"description\": \"A string describing the date.\"\n",
    "        },\n",
    "        \"model\": {\n",
    "            \"type\": \"string\",\n",
    "            \"description\": \"A text field representing the model used.\"\n",
    "        }\n",
    "    },\n",
    "    \"required\": [\n",
    "        \"id\",\n",
    "        \"date\"\n",
    "    ]\n",
    "}\n",
    "\n",
    "# Provided data\n",
    "input_json = {\n",
    "    \"call.id\": \"123\",\n",
    "    \"datetime\": \"2022-01-01\",\n",
    "    \"timestamp\": 1640995200,\n",
    "    \"Address\": \"123 Main St\",\n",
    "    \"user\": {\n",
    "        \"name\": \"John Doe\",\n",
    "        \"age\": 30,\n",
    "        \"contact\": \"john@email.com\"\n",
    "    }\n",
    "}\n",
    "\n",
    "# (Optional) Create hints so the agent knows what to look for in the input\n",
    "key_hints=\"We are processing outputs of an containing an id, a date, and a model. All the required fields should be present in this input, but the names might be different.\"\n"
   ]
  },
  {
   "cell_type": "code",
   "execution_count": null,
   "metadata": {},
   "outputs": [],
   "source": [
    "schema_properties, valid = validate_schema(input_json, schema, key_hints)\n",
    "# TODO REMOVE jaiqu from schema_properties, valid = validate_schema(input_json, schema, key_hints)\n",
    "\n",
    "print(schema_properties)\n",
    "print(valid)"
   ]
  }
 ],
 "metadata": {
  "kernelspec": {
   "display_name": "env",
   "language": "python",
   "name": "python3"
  },
  "language_info": {
   "codemirror_mode": {
    "name": "ipython",
    "version": 3
   },
   "file_extension": ".py",
   "mimetype": "text/x-python",
   "name": "python",
   "nbconvert_exporter": "python",
   "pygments_lexer": "ipython3",
   "version": "3.11.7"
  }
 },
 "nbformat": 4,
 "nbformat_minor": 2
}
