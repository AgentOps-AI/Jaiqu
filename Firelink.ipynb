{
 "cells": [
  {
   "cell_type": "code",
   "execution_count": 1,
   "id": "24f32a5e",
   "metadata": {},
   "outputs": [],
   "source": [
    "import json\n",
    "from openai import OpenAI\n",
    "import jq"
   ]
  },
  {
   "cell_type": "code",
   "execution_count": 2,
   "id": "aacabf43",
   "metadata": {},
   "outputs": [],
   "source": [
    "# from agentops import Client\n",
    "# ao_client = Client()"
   ]
  },
  {
   "cell_type": "code",
   "execution_count": 3,
   "id": "880d070e",
   "metadata": {},
   "outputs": [],
   "source": [
    "client = OpenAI()"
   ]
  },
  {
   "cell_type": "markdown",
   "id": "8438fa53",
   "metadata": {},
   "source": [
    "## Get arbitrary data outputs"
   ]
  },
  {
   "cell_type": "code",
   "execution_count": 4,
   "id": "392e59ff",
   "metadata": {},
   "outputs": [],
   "source": [
    "with open('gcal.json', 'r') as f:\n",
    "    gcal = json.load(f)\n",
    "    \n",
    "with open('outlook.json', 'r') as f:\n",
    "    outlook = json.load(f)"
   ]
  },
  {
   "cell_type": "markdown",
   "id": "9c1835e6",
   "metadata": {
    "slideshow": {
     "slide_type": "slide"
    }
   },
   "source": [
    "## Provide the schema for the data you want\n",
    "\n",
    "Fields I want:\n",
    "```\n",
    "{\n",
    "    \"id\": \"string\",\n",
    "    \"start_time\": \"timestamp\",\n",
    "    \"end_time\": \"timestamp\",\n",
    "    \"time_zone\": \"string\",\n",
    "    \"status\": \"string - confirmed/busy/tentative\",\n",
    "    \"location\": \"string\",\n",
    "    \"summary\": \"string\",\n",
    "    \"subject\": \"string\",\n",
    "    \"recurrance\": \"boolean\",\n",
    "    \"visibility\":\"string\"\n",
    "}\n",
    "```"
   ]
  },
  {
   "cell_type": "code",
   "execution_count": 5,
   "id": "111b8998",
   "metadata": {
    "scrolled": true
   },
   "outputs": [],
   "source": [
    "desired_schema = {\n",
    "  \"$schema\": \"http://json-schema.org/draft-07/schema#\",\n",
    "  \"type\": \"object\",\n",
    "  \"properties\": {\n",
    "    \"id\": {\n",
    "      \"type\": \"string\"\n",
    "    },\n",
    "    \"start_time\": {\n",
    "      \"$ref\": \"#/$defs/timestamp\"\n",
    "    },\n",
    "    \"end_time\": {\n",
    "      \"$ref\": \"#/$defs/timestamp\"\n",
    "    },\n",
    "    \"time_zone\": {\n",
    "      \"type\": \"string\"\n",
    "    },\n",
    "    \"status\": {\n",
    "      \"type\": \"string\",\n",
    "      \"enum\": [\"confirmed\", \"busy\", \"tentative\"]\n",
    "    },\n",
    "    \"location\": {\n",
    "      \"type\": \"string\"\n",
    "    },\n",
    "    \"summary\": {\n",
    "      \"type\": \"string\"\n",
    "    },\n",
    "    \"subject\": {\n",
    "      \"type\": \"string\"\n",
    "    },\n",
    "    \"recurrence\": {\n",
    "      \"type\": \"boolean\"\n",
    "    },\n",
    "    \"visibility\": {\n",
    "      \"type\": \"string\"\n",
    "    }\n",
    "  },\n",
    "  \"required\": [\"id\", \"start_time\", \"end_time\", \"status\", \"subject\", \"recurrance\", \"visibility\"],\n",
    "  \"$defs\": {\n",
    "    \"timestamp\": {\n",
    "      \"type\": \"string\",\n",
    "      \"format\": \"date-time\"\n",
    "    }\n",
    "  }\n",
    "}"
   ]
  },
  {
   "cell_type": "markdown",
   "id": "73e2f9cb",
   "metadata": {},
   "source": [
    "## Validation layer"
   ]
  },
  {
   "cell_type": "code",
   "execution_count": 6,
   "id": "74342e08",
   "metadata": {
    "scrolled": true
   },
   "outputs": [],
   "source": [
    "def identify_key(key_name, input_schema):\n",
    "\n",
    "    messages = [{\n",
    "             \"role\": \"system\",\n",
    "             \"content\": \"\"\"You are a perfect system designed to validate and extract data from JSON files. \n",
    "For each field, you provide a short check about your reasoning. Go line by line and do a side by side comparison. For example:\n",
    "\n",
    "\"id\" | \"id\" : The field name is identical. True.\n",
    "\"time\" | \"timestamp\": This is the same concept, therefore it counts. True.\n",
    "\"addr\" | \"Address\": This is the same concept and is a , therefore it counts. True.\n",
    "\"cats\" | None: There no matching or remotely similar fields. False.\n",
    "\n",
    "Some fields may not have the exact same names. Use your best judgement about the meaning of the field to determine if they should count.\n",
    "\n",
    "You come to a definitive conclusion- True or False at the end of your response.\"\"\"\n",
    "            }, \n",
    "            {\n",
    "             \"role\": \"user\",\n",
    "             \"content\": f\"Is `{key_name}` present in the desired schema:\\n\\n  {input_schema}\"\n",
    "            }]\n",
    "\n",
    "    reasoning_response = client.chat.completions.create(messages=messages,\n",
    "                                                        model=\"gpt-4\")\n",
    "    return reasoning_response.choices[0].message.content\n"
   ]
  },
  {
   "cell_type": "code",
   "execution_count": 7,
   "id": "8d8728b5",
   "metadata": {
    "scrolled": true
   },
   "outputs": [
    {
     "data": {
      "text/plain": [
       "'\"summary\" | \"summary\": The field name is identical. True.'"
      ]
     },
     "execution_count": 7,
     "metadata": {},
     "output_type": "execute_result"
    }
   ],
   "source": [
    "identify_key('summary', gcal)"
   ]
  },
  {
   "cell_type": "code",
   "execution_count": 8,
   "id": "2e0d2db2",
   "metadata": {
    "scrolled": true
   },
   "outputs": [
    {
     "data": {
      "text/plain": [
       "{'kind': 'calendar#event',\n",
       " 'etag': '\"317317317317317317\"',\n",
       " 'id': '123abc456def',\n",
       " 'status': 'confirmed',\n",
       " 'htmlLink': 'https://www.google.com/calendar/event?eid=123abc456def',\n",
       " 'created': '2024-02-10T12:00:00Z',\n",
       " 'updated': '2024-02-10T15:00:00Z',\n",
       " 'summary': 'Project Launch Meeting',\n",
       " 'description': 'Initial meeting to discuss the roadmap and deliverables for the new project.',\n",
       " 'location': 'Conference Room B, 123 Business Rd, City, Country',\n",
       " 'colorId': '9',\n",
       " 'creator': {'id': 'creator01',\n",
       "  'email': 'creator@example.com',\n",
       "  'displayName': 'Alex Smith',\n",
       "  'self': False},\n",
       " 'organizer': {'id': 'org01',\n",
       "  'email': 'organizer@example.com',\n",
       "  'displayName': 'Company ABC',\n",
       "  'self': True},\n",
       " 'start': {'date': None,\n",
       "  'dateTime': '2024-02-15T09:00:00Z',\n",
       "  'timeZone': 'America/New_York'},\n",
       " 'end': {'date': None,\n",
       "  'dateTime': '2024-02-15T10:00:00Z',\n",
       "  'timeZone': 'America/New_York'},\n",
       " 'endTimeUnspecified': False,\n",
       " 'recurrence': ['RRULE:FREQ=WEEKLY;COUNT=4'],\n",
       " 'recurringEventId': '',\n",
       " 'originalStartTime': {'date': None,\n",
       "  'dateTime': '2024-02-15T09:00:00Z',\n",
       "  'timeZone': 'America/New_York'},\n",
       " 'transparency': 'opaque',\n",
       " 'visibility': 'public',\n",
       " 'iCalUID': '123abc456def@google.com',\n",
       " 'sequence': 0,\n",
       " 'attendees': [{'id': 'attendee01',\n",
       "   'email': 'attendee1@example.com',\n",
       "   'displayName': 'Jordan Doe',\n",
       "   'organizer': False,\n",
       "   'self': False,\n",
       "   'resource': False,\n",
       "   'optional': False,\n",
       "   'responseStatus': 'needsAction',\n",
       "   'comment': '',\n",
       "   'additionalGuests': 0}],\n",
       " 'attendeesOmitted': False,\n",
       " 'extendedProperties': {'private': {'projectCode': 'PRJ12345'},\n",
       "  'shared': {'agendaLink': 'https://example.com/meeting-agenda'}},\n",
       " 'hangoutLink': 'https://meet.google.com/abc-defg-hij',\n",
       " 'conferenceData': {'createRequest': {'requestId': 'xyz123abc456',\n",
       "   'conferenceSolutionKey': {'type': 'hangoutsMeet'},\n",
       "   'status': {'statusCode': 'success'}},\n",
       "  'entryPoints': [{'entryPointType': 'video',\n",
       "    'uri': 'https://meet.google.com/abc-defg-hij',\n",
       "    'label': 'Google Meet',\n",
       "    'pin': '123456',\n",
       "    'accessCode': '',\n",
       "    'meetingCode': 'abc-defg-hij',\n",
       "    'passcode': '',\n",
       "    'password': ''}],\n",
       "  'conferenceSolution': {'key': {'type': 'hangoutsMeet'},\n",
       "   'name': 'Google Meet',\n",
       "   'iconUri': 'https://meet.google.com/icon.png'},\n",
       "  'conferenceId': 'abc-defg-hij',\n",
       "  'signature': 'ABCD1234EF'},\n",
       " 'gadget': {'type': 'Google Docs',\n",
       "  'title': 'Meeting Agenda',\n",
       "  'link': 'https://docs.google.com/document/d/example',\n",
       "  'iconLink': 'https://ssl.gstatic.com/docs/doclist/images/icon_11_document_list.png',\n",
       "  'width': 300,\n",
       "  'height': 200,\n",
       "  'display': 'chip',\n",
       "  'preferences': {'documentId': '1A2b3C4d5E6f'}},\n",
       " 'anyoneCanAddSelf': False,\n",
       " 'guestsCanInviteOthers': True,\n",
       " 'guestsCanModify': False,\n",
       " 'guestsCanSeeOtherGuests': True,\n",
       " 'privateCopy': False,\n",
       " 'locked': False,\n",
       " 'reminders': {'useDefault': True, 'overrides': []},\n",
       " 'source': {'url': 'https://example.com/project-details',\n",
       "  'title': 'Project Details Page'},\n",
       " 'workingLocationProperties': {'type': 'customLocation',\n",
       "  'homeOffice': None,\n",
       "  'customLocation': {'label': 'Remote'},\n",
       "  'officeLocation': {'buildingId': '',\n",
       "   'floorId': '',\n",
       "   'floorSectionId': '',\n",
       "   'deskId': '',\n",
       "   'label': ''}},\n",
       " 'outOfOfficeProperties': {'autoDeclineMode': 'DECLINED',\n",
       "  'declineMessage': 'I will be out of office during this event.'},\n",
       " 'focusTimeProperties': {'autoDeclineMode': 'FOCUSED',\n",
       "  'declineMessage': 'I am focusing on deep work during this time.',\n",
       "  'chatStatus': 'DND'},\n",
       " 'attachments': [{'fileUrl': 'https://docs.google.com/document/d/example',\n",
       "   'title': 'Project Documentation',\n",
       "   'mimeType': 'application/vnd.google-apps.document',\n",
       "   'iconLink': 'https://ssl.gstatic.com/docs/doclist/images/icon_11_document_list.png',\n",
       "   'fileId': '1A2b3C4d5E6f'}],\n",
       " 'eventType': 'default'}"
      ]
     },
     "execution_count": 8,
     "metadata": {},
     "output_type": "execute_result"
    }
   ],
   "source": [
    "gcal"
   ]
  },
  {
   "cell_type": "code",
   "execution_count": 9,
   "id": "a4dfca83",
   "metadata": {},
   "outputs": [],
   "source": [
    "def to_bool(response: str):\n",
    "    if 'true' in response.lower():\n",
    "        return True\n",
    "    return False"
   ]
  },
  {
   "cell_type": "code",
   "execution_count": 10,
   "id": "b7f3cdf5",
   "metadata": {},
   "outputs": [
    {
     "data": {
      "text/plain": [
       "{'id': {'type': 'string'},\n",
       " 'start_time': {'$ref': '#/$defs/timestamp'},\n",
       " 'end_time': {'$ref': '#/$defs/timestamp'},\n",
       " 'time_zone': {'type': 'string'},\n",
       " 'status': {'type': 'string', 'enum': ['confirmed', 'busy', 'tentative']},\n",
       " 'location': {'type': 'string'},\n",
       " 'summary': {'type': 'string'},\n",
       " 'subject': {'type': 'string'},\n",
       " 'recurrence': {'type': 'boolean'},\n",
       " 'visibility': {'type': 'string'}}"
      ]
     },
     "execution_count": 10,
     "metadata": {},
     "output_type": "execute_result"
    }
   ],
   "source": [
    "desired_schema['properties']"
   ]
  },
  {
   "cell_type": "code",
   "execution_count": 11,
   "id": "ab795cff",
   "metadata": {},
   "outputs": [
    {
     "data": {
      "text/plain": [
       "False"
      ]
     },
     "execution_count": 11,
     "metadata": {},
     "output_type": "execute_result"
    }
   ],
   "source": [
    "to_bool('\"summary\" | \"summary\" : The field name is identical.')"
   ]
  },
  {
   "cell_type": "code",
   "execution_count": 12,
   "id": "bec327ae",
   "metadata": {
    "scrolled": true
   },
   "outputs": [
    {
     "data": {
      "text/plain": [
       "True"
      ]
     },
     "execution_count": 12,
     "metadata": {},
     "output_type": "execute_result"
    }
   ],
   "source": [
    "to_bool('\"summary\" | \"summary\": The field name is identical. True.\\n\\nBased on the comparison, the field \"summary\" is present in the desired schema.')"
   ]
  },
  {
   "cell_type": "code",
   "execution_count": 13,
   "id": "9b82b20a",
   "metadata": {
    "scrolled": true
   },
   "outputs": [
    {
     "data": {
      "text/plain": [
       "{'kind': 'calendar#event',\n",
       " 'etag': '\"317317317317317317\"',\n",
       " 'id': '123abc456def',\n",
       " 'status': 'confirmed',\n",
       " 'htmlLink': 'https://www.google.com/calendar/event?eid=123abc456def',\n",
       " 'created': '2024-02-10T12:00:00Z',\n",
       " 'updated': '2024-02-10T15:00:00Z',\n",
       " 'summary': 'Project Launch Meeting',\n",
       " 'description': 'Initial meeting to discuss the roadmap and deliverables for the new project.',\n",
       " 'location': 'Conference Room B, 123 Business Rd, City, Country',\n",
       " 'colorId': '9',\n",
       " 'creator': {'id': 'creator01',\n",
       "  'email': 'creator@example.com',\n",
       "  'displayName': 'Alex Smith',\n",
       "  'self': False},\n",
       " 'organizer': {'id': 'org01',\n",
       "  'email': 'organizer@example.com',\n",
       "  'displayName': 'Company ABC',\n",
       "  'self': True},\n",
       " 'start': {'date': None,\n",
       "  'dateTime': '2024-02-15T09:00:00Z',\n",
       "  'timeZone': 'America/New_York'},\n",
       " 'end': {'date': None,\n",
       "  'dateTime': '2024-02-15T10:00:00Z',\n",
       "  'timeZone': 'America/New_York'},\n",
       " 'endTimeUnspecified': False,\n",
       " 'recurrence': ['RRULE:FREQ=WEEKLY;COUNT=4'],\n",
       " 'recurringEventId': '',\n",
       " 'originalStartTime': {'date': None,\n",
       "  'dateTime': '2024-02-15T09:00:00Z',\n",
       "  'timeZone': 'America/New_York'},\n",
       " 'transparency': 'opaque',\n",
       " 'visibility': 'public',\n",
       " 'iCalUID': '123abc456def@google.com',\n",
       " 'sequence': 0,\n",
       " 'attendees': [{'id': 'attendee01',\n",
       "   'email': 'attendee1@example.com',\n",
       "   'displayName': 'Jordan Doe',\n",
       "   'organizer': False,\n",
       "   'self': False,\n",
       "   'resource': False,\n",
       "   'optional': False,\n",
       "   'responseStatus': 'needsAction',\n",
       "   'comment': '',\n",
       "   'additionalGuests': 0}],\n",
       " 'attendeesOmitted': False,\n",
       " 'extendedProperties': {'private': {'projectCode': 'PRJ12345'},\n",
       "  'shared': {'agendaLink': 'https://example.com/meeting-agenda'}},\n",
       " 'hangoutLink': 'https://meet.google.com/abc-defg-hij',\n",
       " 'conferenceData': {'createRequest': {'requestId': 'xyz123abc456',\n",
       "   'conferenceSolutionKey': {'type': 'hangoutsMeet'},\n",
       "   'status': {'statusCode': 'success'}},\n",
       "  'entryPoints': [{'entryPointType': 'video',\n",
       "    'uri': 'https://meet.google.com/abc-defg-hij',\n",
       "    'label': 'Google Meet',\n",
       "    'pin': '123456',\n",
       "    'accessCode': '',\n",
       "    'meetingCode': 'abc-defg-hij',\n",
       "    'passcode': '',\n",
       "    'password': ''}],\n",
       "  'conferenceSolution': {'key': {'type': 'hangoutsMeet'},\n",
       "   'name': 'Google Meet',\n",
       "   'iconUri': 'https://meet.google.com/icon.png'},\n",
       "  'conferenceId': 'abc-defg-hij',\n",
       "  'signature': 'ABCD1234EF'},\n",
       " 'gadget': {'type': 'Google Docs',\n",
       "  'title': 'Meeting Agenda',\n",
       "  'link': 'https://docs.google.com/document/d/example',\n",
       "  'iconLink': 'https://ssl.gstatic.com/docs/doclist/images/icon_11_document_list.png',\n",
       "  'width': 300,\n",
       "  'height': 200,\n",
       "  'display': 'chip',\n",
       "  'preferences': {'documentId': '1A2b3C4d5E6f'}},\n",
       " 'anyoneCanAddSelf': False,\n",
       " 'guestsCanInviteOthers': True,\n",
       " 'guestsCanModify': False,\n",
       " 'guestsCanSeeOtherGuests': True,\n",
       " 'privateCopy': False,\n",
       " 'locked': False,\n",
       " 'reminders': {'useDefault': True, 'overrides': []},\n",
       " 'source': {'url': 'https://example.com/project-details',\n",
       "  'title': 'Project Details Page'},\n",
       " 'workingLocationProperties': {'type': 'customLocation',\n",
       "  'homeOffice': None,\n",
       "  'customLocation': {'label': 'Remote'},\n",
       "  'officeLocation': {'buildingId': '',\n",
       "   'floorId': '',\n",
       "   'floorSectionId': '',\n",
       "   'deskId': '',\n",
       "   'label': ''}},\n",
       " 'outOfOfficeProperties': {'autoDeclineMode': 'DECLINED',\n",
       "  'declineMessage': 'I will be out of office during this event.'},\n",
       " 'focusTimeProperties': {'autoDeclineMode': 'FOCUSED',\n",
       "  'declineMessage': 'I am focusing on deep work during this time.',\n",
       "  'chatStatus': 'DND'},\n",
       " 'attachments': [{'fileUrl': 'https://docs.google.com/document/d/example',\n",
       "   'title': 'Project Documentation',\n",
       "   'mimeType': 'application/vnd.google-apps.document',\n",
       "   'iconLink': 'https://ssl.gstatic.com/docs/doclist/images/icon_11_document_list.png',\n",
       "   'fileId': '1A2b3C4d5E6f'}],\n",
       " 'eventType': 'default'}"
      ]
     },
     "execution_count": 13,
     "metadata": {},
     "output_type": "execute_result"
    }
   ],
   "source": [
    "gcal"
   ]
  },
  {
   "cell_type": "code",
   "execution_count": 14,
   "id": "503e1929",
   "metadata": {
    "scrolled": true
   },
   "outputs": [
    {
     "name": "stdout",
     "output_type": "stream",
     "text": [
      "\"id\" | \"id\" : The field name is identical. True.\n",
      "！✅ id\n",
      "\"start_time\" | \"start\": The field label \"start_time\" in the given field does not directly match any field name in the JSON schema. However, the JSON schema includes a \"start\" object that contains a \"dateTime\" field, which could represent the start time of an event. Therefore, it can be somewhat inferred that \"start\" corresponds to \"start_time\" but they are not identical. Therefore, False.\n",
      "！❌ start_time\n",
      "\"end_time\" | \"end\": The field name is not identical, but they represent the same concept, that is, the end timing of an event. True. \n",
      "\n",
      "So, for the given JSON schema, the conclusion is True. The 'end_time' can be considered to be present as the 'end' field.\n",
      "！✅ end_time\n",
      "\"time_zone\" | {\"start\": {'timeZone': 'America/New_York'}, \"end\": {'timeZone': 'America/New_York'}, \"originalStartTime\": {'timeZone': 'America/New_York'}}:  \n",
      "The fieldType 'timeZone' is nested inside the fields 'start', 'end' and 'originalStartTime'. Therefore it counts. True.\n",
      "\n",
      "In conclusion, The field 'time_zone' is present in the desired schema, under the 'start', 'end' and 'originalStartTime' fields as 'timeZone'. Therefore, the final result is True.\n",
      "✅ time_zone\n",
      "\"status\" | \"status\" : The field name is identical. True.\n",
      "！✅ status\n",
      "'location' | 'location': The field name is present and identical. True.\n",
      "✅ location\n",
      "\"summary\" | \"summary\" : The field name is identical. True. \n",
      "\n",
      "Therefore, the field `summary` is present in the desired schema. The final conclusion is True.\n",
      "✅ summary\n",
      "\"subject\" | None: There are no matching or remotely similar fields. False. \n",
      "\n",
      "Final conclusion: False. The field \"subject\" is not present in the JSON.\n",
      "！❌ subject\n",
      "\"recurrence\" | \"recurrence\" : The field name is identical. True.\n",
      "\n",
      "Overall Conclusion: True\n",
      "✅ recurrence\n",
      "\"visibility\" | \"visibility\" : The field name is identical. True. \n",
      "\n",
      "The field \"visibility\" is indeed present in the desired schema and its name is identical. Therefore, it counts as an exact match. The final conclusion is True.\n",
      "！✅ visibility\n"
     ]
    }
   ],
   "source": [
    "for key in desired_schema['properties'].keys():\n",
    "    response = identify_key(key, gcal)\n",
    "    print(response)\n",
    "    if to_bool(response):\n",
    "        line=f\"✅ {key}\"\n",
    "    else:\n",
    "        line = f\"❌ {key}\"\n",
    "    if key in desired_schema['required']:\n",
    "        line = \"！\"+line\n",
    "        \n",
    "    print(line)"
   ]
  },
  {
   "cell_type": "markdown",
   "id": "ebc189b7",
   "metadata": {},
   "source": [
    "### 2. Devise a way to pull the fields from the data we have\n",
    "\n",
    "**Testing it out...**"
   ]
  },
  {
   "cell_type": "code",
   "execution_count": 17,
   "id": "be96b36d",
   "metadata": {},
   "outputs": [
    {
     "data": {
      "text/plain": [
       "{'$schema': 'http://json-schema.org/draft-07/schema#',\n",
       " 'type': 'object',\n",
       " 'properties': {'id': {'type': 'string'},\n",
       "  'start_time': {'$ref': '#/$defs/timestamp'},\n",
       "  'end_time': {'$ref': '#/$defs/timestamp'},\n",
       "  'time_zone': {'type': 'string'},\n",
       "  'status': {'type': 'string', 'enum': ['confirmed', 'busy', 'tentative']},\n",
       "  'location': {'type': 'string'},\n",
       "  'summary': {'type': 'string'},\n",
       "  'subject': {'type': 'string'},\n",
       "  'recurrence': {'type': 'boolean'},\n",
       "  'visibility': {'type': 'string'}},\n",
       " 'required': ['id',\n",
       "  'start_time',\n",
       "  'end_time',\n",
       "  'status',\n",
       "  'subject',\n",
       "  'recurrance',\n",
       "  'visibility'],\n",
       " '$defs': {'timestamp': {'type': 'string', 'format': 'date-time'}}}"
      ]
     },
     "execution_count": 17,
     "metadata": {},
     "output_type": "execute_result"
    }
   ],
   "source": [
    "desired_schema"
   ]
  },
  {
   "cell_type": "code",
   "execution_count": 18,
   "id": "307125ab",
   "metadata": {},
   "outputs": [],
   "source": [
    "def create_jq_string(input_schema, key):\n",
    "    messages = [{\n",
    "                 \"role\": \"system\",\n",
    "                 \"content\": f\"\"\"You are a perfect jq engineer designed to validate and extract data from JSON files using jq. Only reply with code. Do NOT use any natural language. Do NOT use markdown i.e. ```.\n",
    "                 \n",
    "Your task is to create a jq filter to extract the data from the following JSON:\n",
    "\n",
    "{input_schema}\n",
    "\"\"\"\n",
    "                }, \n",
    "                {\n",
    "                 \"role\": \"user\",\n",
    "                 \"content\": f\"Write jq to extract the key {key}\"\n",
    "                }]\n",
    "\n",
    "    response = client.chat.completions.create(messages=messages, model=\"gpt-4-0125-preview\")\n",
    "    return response.choices[0].message.content"
   ]
  },
  {
   "cell_type": "code",
   "execution_count": 19,
   "id": "b86376c8",
   "metadata": {},
   "outputs": [],
   "source": [
    "jq_reasoning = create_jq_string(gcal, 'time')"
   ]
  },
  {
   "cell_type": "code",
   "execution_count": 20,
   "id": "e072315f",
   "metadata": {
    "scrolled": true
   },
   "outputs": [
    {
     "name": "stdout",
     "output_type": "stream",
     "text": [
      ".time_zone\n"
     ]
    }
   ],
   "source": [
    "print(jq_reasoning)"
   ]
  },
  {
   "cell_type": "markdown",
   "id": "beb8eee2",
   "metadata": {},
   "source": [
    "## Condense into a single filter"
   ]
  },
  {
   "cell_type": "markdown",
   "id": "deb58bae",
   "metadata": {},
   "source": [
    "## Try jq"
   ]
  },
  {
   "cell_type": "code",
   "execution_count": 21,
   "id": "0230c585",
   "metadata": {},
   "outputs": [],
   "source": [
    "def repair_query(query, error, input_schema):\n",
    "    messages = [{\n",
    "                \"role\": \"system\",\n",
    "                \"content\": \"You are a perfect jq engineer designed to validate and extract data from JSON files using jq. Only reply with code. Do NOT use any natural language. Do NOT use markdown i.e. ```.\"\n",
    "                },\n",
    "                {\n",
    "                \"role\": \"user\",\n",
    "                \"content\": f\"\"\"The following query returned an error while extracting from the follwing schema:\n",
    "                \n",
    "Query: {query}\n",
    "\n",
    "Error: {error}\n",
    "\n",
    "Schema: {input_schema}\"\"\"}]\n",
    "    response = client.chat.completions.create(messages=messages,\n",
    "                                              model=\"gpt-4-0125-preview\")\n",
    "    return response.choices[0].message.content    \n",
    "    \n",
    "    "
   ]
  },
  {
   "cell_type": "code",
   "execution_count": 53,
   "id": "f324b42e",
   "metadata": {
    "scrolled": true
   },
   "outputs": [
    {
     "name": "stdout",
     "output_type": "stream",
     "text": [
      ".id\n",
      "['123abc456def']\n",
      ".start.dateTime\n",
      "['2024-02-15T09:00:00Z']\n",
      ".end.dateTime\n",
      "['2024-02-15T10:00:00Z']\n",
      ".kind, .etag, .id, .status, .htmlLink, .created, .updated, .summary, .description, .location, .colorId, .creator, .organizer, .start.timeZone, .end.timeZone, .endTimeUnspecified, .recurrence[], .recurringEventId, .originalStartTime.timeZone, .transparency, .visibility, .iCalUID, .sequence, .attendees[].email, .attendeesOmitted, .extendedProperties.private, .extendedProperties.shared, .hangoutLink, .conferenceData, .gadget, .anyoneCanAddSelf, .guestsCanInviteOthers, .guestsCanModify, .guestsCanSeeOtherGuests, .privateCopy, .locked, .reminders, .source, .workingLocationProperties, .outOfOfficeProperties, .focusTimeProperties, .attachments, .eventType\n",
      "['calendar#event', '\"317317317317317317\"', '123abc456def', 'confirmed', 'https://www.google.com/calendar/event?eid=123abc456def', '2024-02-10T12:00:00Z', '2024-02-10T15:00:00Z', 'Project Launch Meeting', 'Initial meeting to discuss the roadmap and deliverables for the new project.', 'Conference Room B, 123 Business Rd, City, Country', '9', {'id': 'creator01', 'email': 'creator@example.com', 'displayName': 'Alex Smith', 'self': False}, {'id': 'org01', 'email': 'organizer@example.com', 'displayName': 'Company ABC', 'self': True}, 'America/New_York', 'America/New_York', False, 'RRULE:FREQ=WEEKLY;COUNT=4', '', 'America/New_York', 'opaque', 'public', '123abc456def@google.com', 0, 'attendee1@example.com', False, {'projectCode': 'PRJ12345'}, {'agendaLink': 'https://example.com/meeting-agenda'}, 'https://meet.google.com/abc-defg-hij', {'createRequest': {'requestId': 'xyz123abc456', 'conferenceSolutionKey': {'type': 'hangoutsMeet'}, 'status': {'statusCode': 'success'}}, 'entryPoints': [{'entryPointType': 'video', 'uri': 'https://meet.google.com/abc-defg-hij', 'label': 'Google Meet', 'pin': '123456', 'accessCode': '', 'meetingCode': 'abc-defg-hij', 'passcode': '', 'password': ''}], 'conferenceSolution': {'key': {'type': 'hangoutsMeet'}, 'name': 'Google Meet', 'iconUri': 'https://meet.google.com/icon.png'}, 'conferenceId': 'abc-defg-hij', 'signature': 'ABCD1234EF'}, {'type': 'Google Docs', 'title': 'Meeting Agenda', 'link': 'https://docs.google.com/document/d/example', 'iconLink': 'https://ssl.gstatic.com/docs/doclist/images/icon_11_document_list.png', 'width': 300, 'height': 200, 'display': 'chip', 'preferences': {'documentId': '1A2b3C4d5E6f'}}, False, True, False, True, False, False, {'useDefault': True, 'overrides': []}, {'url': 'https://example.com/project-details', 'title': 'Project Details Page'}, {'type': 'customLocation', 'homeOffice': None, 'customLocation': {'label': 'Remote'}, 'officeLocation': {'buildingId': '', 'floorId': '', 'floorSectionId': '', 'deskId': '', 'label': ''}}, {'autoDeclineMode': 'DECLINED', 'declineMessage': 'I will be out of office during this event.'}, {'autoDeclineMode': 'FOCUSED', 'declineMessage': 'I am focusing on deep work during this time.', 'chatStatus': 'DND'}, [{'fileUrl': 'https://docs.google.com/document/d/example', 'title': 'Project Documentation', 'mimeType': 'application/vnd.google-apps.document', 'iconLink': 'https://ssl.gstatic.com/docs/doclist/images/icon_11_document_list.png', 'fileId': '1A2b3C4d5E6f'}], 'default']\n",
      ".status\n",
      "['confirmed']\n",
      ".location\n",
      "['Conference Room B, 123 Business Rd, City, Country']\n",
      ".summary\n",
      "['Project Launch Meeting']\n",
      ".kind\n",
      "['calendar#event']\n",
      ".recurrence\n",
      "[['RRULE:FREQ=WEEKLY;COUNT=4']]\n",
      ".visibility\n",
      "['public']\n"
     ]
    }
   ],
   "source": [
    "filter_query = {}\n",
    "\n",
    "for key in list(desired_schema['properties'].keys()):\n",
    "#     print(key)\n",
    "    \n",
    "    while True:\n",
    "        jq_string = create_jq_string(gcal, key)\n",
    "        print(jq_string)\n",
    "        query = \"\"\n",
    "        try:\n",
    "            query = jq.compile(jq_string).input(gcal).all()\n",
    "            break\n",
    "        except Exception as e:\n",
    "#             print(e)\n",
    "            repair_query(query, str(e), gcal)\n",
    "    print(query)\n",
    "    filter_query[key] = jq_string"
   ]
  },
  {
   "cell_type": "code",
   "execution_count": 60,
   "id": "6a183c5f",
   "metadata": {},
   "outputs": [
    {
     "data": {
      "text/plain": [
       "'{\"id\": \".id\", \"start_time\": \".start.dateTime\", \"end_time\": \".end.dateTime\", \"time_zone\": \".kind, .etag, .id, .status, .htmlLink, .created, .updated, .summary, .description, .location, .colorId, .creator, .organizer, .start.timeZone, .end.timeZone, .endTimeUnspecified, .recurrence[], .recurringEventId, .originalStartTime.timeZone, .transparency, .visibility, .iCalUID, .sequence, .attendees[].email, .attendeesOmitted, .extendedProperties.private, .extendedProperties.shared, .hangoutLink, .conferenceData, .gadget, .anyoneCanAddSelf, .guestsCanInviteOthers, .guestsCanModify, .guestsCanSeeOtherGuests, .privateCopy, .locked, .reminders, .source, .workingLocationProperties, .outOfOfficeProperties, .focusTimeProperties, .attachments, .eventType\", \"status\": \".status\", \"location\": \".location\", \"summary\": \".summary\", \"subject\": \".kind\", \"recurrence\": \".recurrence\", \"visibility\": \".visibility\"}'"
      ]
     },
     "execution_count": 60,
     "metadata": {},
     "output_type": "execute_result"
    }
   ],
   "source": [
    "json.dumps(filter_query)"
   ]
  },
  {
   "cell_type": "code",
   "execution_count": 85,
   "id": "673a61db",
   "metadata": {},
   "outputs": [
    {
     "name": "stdout",
     "output_type": "stream",
     "text": [
      "{ \"id\": .id,\n",
      " \"start_time\": .start.dateTime,\n",
      " \"end_time\": .end.dateTime,\n",
      " \"status\": .status,\n",
      " \"location\": .location,\n",
      " \"summary\": .summary,\n",
      " \"subject\": .kind,\n",
      " \"recurrence\": .recurrence,\n",
      " \"visibility\": .visibility }\n"
     ]
    }
   ],
   "source": [
    "def dict_to_jq_filter(transformation_dict):\n",
    "    jq_filter_parts = []\n",
    "    for new_key, json_path in transformation_dict.items():\n",
    "        # For each item in the dictionary, create a string '\"new_key\": json_path'\n",
    "        # Note: json_path is assumed to be a valid jq path expression as a string\n",
    "        jq_filter_parts.append(f'\"{new_key}\": {json_path}')\n",
    "    \n",
    "    # Join all parts with commas and wrap in braces to form a valid jq object filter\n",
    "    jq_filter = \"{ \" + \",\\n \".join(jq_filter_parts) + \" }\"\n",
    "    return jq_filter\n",
    "\n",
    "# Example usage\n",
    "# del filter_query['time_zone']\n",
    "jq_query = dict_to_jq_filter(filter_query)\n",
    "print(jq_query)\n"
   ]
  },
  {
   "cell_type": "code",
   "execution_count": 86,
   "id": "ee75b641",
   "metadata": {},
   "outputs": [
    {
     "name": "stdout",
     "output_type": "stream",
     "text": [
      "[{'id': '123abc456def', 'start_time': '2024-02-15T09:00:00Z', 'end_time': '2024-02-15T10:00:00Z', 'status': 'confirmed', 'location': 'Conference Room B, 123 Business Rd, City, Country', 'summary': 'Project Launch Meeting', 'subject': 'calendar#event', 'recurrence': ['RRULE:FREQ=WEEKLY;COUNT=4'], 'visibility': 'public'}]\n"
     ]
    }
   ],
   "source": [
    "# jq_query = '''\n",
    "# {\n",
    "#   \"id\": .id\n",
    "# }\n",
    "# '''\n",
    "\n",
    "# Apply the jq filter\n",
    "result = jq.compile(jq_query).input(gcal).all()\n",
    "\n",
    "print(result)"
   ]
  },
  {
   "cell_type": "code",
   "execution_count": 34,
   "id": "42bb0a82",
   "metadata": {
    "scrolled": true
   },
   "outputs": [
    {
     "name": "stdout",
     "output_type": "stream",
     "text": [
      "{\n",
      "  \"kind\": \"calendar#event\",\n",
      "  \"etag\": \"\\\"317317317317317317\\\"\",\n",
      "  \"id\": .id,\n",
      "  \"status\": .status,\n",
      "  \"htmlLink\": (\"https://www.google.com/calendar/event?eid=\" + .id),\n",
      "  \"created\": .start_time,\n",
      "  \"updated\": .end_time,\n",
      "  \"summary\": if .summary then .summary else .subject end,\n",
      "  \"description\": \"Initial meeting to discuss the roadmap and deliverables for the new project.\",\n",
      "  \"location\": .location,\n",
      "  \"colorId\": \"9\",\n",
      "  \"creator\": {\n",
      "    \"id\": \"creator01\",\n",
      "    \"email\": \"creator@example.com\",\n",
      "    \"displayName\": \"Alex Smith\",\n",
      "    \"self\": false\n",
      "  },\n",
      "  \"organizer\": {\n",
      "    \"id\": \"org01\",\n",
      "    \"email\": \"organizer@example.com\",\n",
      "    \"displayName\": \"Company ABC\",\n",
      "    \"self\": true\n",
      "  },\n",
      "  \"start\": {\n",
      "    \"dateTime\": .start_time,\n",
      "    \"timeZone\": .time_zone\n",
      "  },\n",
      "  \"end\": {\n",
      "    \"dateTime\": .end_time,\n",
      "    \"timeZone\": .time_zone\n",
      "  },\n",
      "  \"endTimeUnspecified\": false,\n",
      "  \"recurrence\": [\"RRULE:FREQ=WEEKLY;COUNT=4\"],\n",
      "  \"recurringEventId\": \"\",\n",
      "  \"originalStartTime\": {\n",
      "    \"dateTime\": .start_time,\n",
      "    \"timeZone\": .time_zone\n",
      "  },\n",
      "  \"transparency\": \"opaque\",\n",
      "  \"visibility\": if .visibility == \"private\" then \"private\" else \"public\" end,\n",
      "  \"iCalUID\": .id + \"@google.com\",\n",
      "  \"sequence\": 0,\n",
      "  \"attendees\": [\n",
      "    {\n",
      "      \"id\": \"attendee01\",\n",
      "      \"email\": \"attendee1@example.com\",\n",
      "      \"displayName\": \"Jordan Doe\",\n",
      "      \"organizer\": false,\n",
      "      \"self\": false,\n",
      "      \"resource\": false,\n",
      "      \"optional\": false,\n",
      "      \"responseStatus\": \"needsAction\",\n",
      "      \"comment\": \"\",\n",
      "      \"additionalGuests\": 0\n",
      "    }\n",
      "  ],\n",
      "  \"attendeesOmitted\": false,\n",
      "  \"extendedProperties\": {\n",
      "    \"private\": {\"projectCode\": \"PRJ12345\"},\n",
      "    \"shared\": {\"agendaLink\": \"https://example.com/meeting-agenda\"}\n",
      "  },\n",
      "  \"hangoutLink\": \"https://meet.google.com/abc-defg-hij\",\n",
      "  \"conferenceData\": {\n",
      "    \"createRequest\": {\n",
      "      \"requestId\": \"xyz123abc456\",\n",
      "      \"conferenceSolutionKey\": {\"type\": \"hangoutsMeet\"},\n",
      "      \"status\": {\"statusCode\": \"success\"}\n",
      "    },\n",
      "    \"entryPoints\": [\n",
      "      {\n",
      "        \"entryPointType\": \"video\",\n",
      "        \"uri\": \"https://meet.google.com/abc-defg-hij\",\n",
      "        \"label\": \"Google Meet\",\n",
      "        \"pin\": \"123456\",\n",
      "        \"accessCode\": \"\",\n",
      "        \"meetingCode\": \"abc-defg-hij\",\n",
      "        \"passcode\": \"\",\n",
      "        \"password\": \"\"\n",
      "      }\n",
      "    ],\n",
      "    \"conferenceSolution\": {\n",
      "      \"key\": {\"type\": \"hangoutsMeet\"},\n",
      "      \"name\": \"Google Meet\",\n",
      "      \"iconUri\": \"https://meet.google.com/icon.png\"\n",
      "    },\n",
      "    \"conferenceId\": \"abc-defg-hij\",\n",
      "    \"signature\": \"ABCD1234EF\"\n",
      "  },\n",
      "  \"gadget\": {\n",
      "    \"type\": \"Google Docs\",\n",
      "    \"title\": \"Meeting Agenda\",\n",
      "    \"link\": \"https://docs.google.com/document/d/example\",\n",
      "    \"iconLink\": \"https://ssl.gstatic.com/docs/doclist/images/icon_11_document_list.png\",\n",
      "    \"width\": 300,\n",
      "    \"height\": 200,\n",
      "    \"display\": \"chip\",\n",
      "    \"preferences\": {\"documentId\": \"1A2b3C4d5E6f\"}\n",
      "  },\n",
      "  \"anyoneCanAddSelf\": false,\n",
      "  \"guestsCanInviteOthers\": true,\n",
      "  \"guestsCanModify\": false,\n",
      "  \"guestsCanSeeOtherGuests\": true,\n",
      "  \"privateCopy\": false,\n",
      "  \"locked\": false,\n",
      "  \"reminders\": {\"useDefault\": true, \"overrides\": []},\n",
      "  \"source\": {\n",
      "    \"url\": \"https://example.com/project-details\",\n",
      "    \"title\": \"Project Details Page\"\n",
      "  },\n",
      "  \"workingLocationProperties\": {\n",
      "    \"type\": \"customLocation\",\n",
      "    \"homeOffice\": null,\n",
      "    \"customLocation\": {\"label\": \"Remote\"},\n",
      "    \"officeLocation\": {\"buildingId\": \"\", \"floorId\": \"\", \"floorSectionId\": \"\", \"deskId\": \"\", \"label\": \"\"}\n",
      "  },\n",
      "  \"outOfOfficeProperties\": {\n",
      "    \"autoDeclineMode\": \"DECLINED\",\n",
      "    \"declineMessage\": \"I will be out of office during this event.\"\n",
      "  },\n",
      "  \"focusTimeProperties\": {\n",
      "    \"autoDeclineMode\": \"FOCUSED\",\n",
      "    \"declineMessage\": \"I am focusing on deep work during this time.\",\n",
      "    \"chatStatus\": \"DND\"\n",
      "  },\n",
      "  \"attachments\": [\n",
      "    {\n",
      "      \"fileUrl\": \"https://docs.google.com/document/d/example\",\n",
      "      \"title\": \"Project Documentation\",\n",
      "      \"mimeType\": \"application/vnd.google-apps.document\",\n",
      "      \"iconLink\": \"https://ssl.gstatic.com/docs/doclist/images/icon_11_document_list.png\",\n",
      "      \"fileId\": \"1A2b3C4d5E6f\"\n",
      "    }\n",
      "  ],\n",
      "  \"eventType\": \"default\"\n",
      "}\n"
     ]
    }
   ],
   "source": [
    "print(condensed_response)"
   ]
  }
 ],
 "metadata": {
  "celltoolbar": "Raw Cell Format",
  "kernelspec": {
   "display_name": "Python 3 (ipykernel)",
   "language": "python",
   "name": "python3"
  },
  "language_info": {
   "codemirror_mode": {
    "name": "ipython",
    "version": 3
   },
   "file_extension": ".py",
   "mimetype": "text/x-python",
   "name": "python",
   "nbconvert_exporter": "python",
   "pygments_lexer": "ipython3",
   "version": "3.11.5"
  }
 },
 "nbformat": 4,
 "nbformat_minor": 5
}
