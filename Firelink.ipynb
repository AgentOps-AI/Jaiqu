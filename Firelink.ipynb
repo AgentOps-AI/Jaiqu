{
 "cells": [
  {
   "cell_type": "code",
   "execution_count": 1,
   "id": "24f32a5e",
   "metadata": {},
   "outputs": [],
   "source": [
    "import json\n",
    "from openai import OpenAI\n",
    "import jq\n",
    "import json"
   ]
  },
  {
   "cell_type": "code",
   "execution_count": 2,
   "id": "880d070e",
   "metadata": {},
   "outputs": [],
   "source": [
    "client = OpenAI()"
   ]
  },
  {
   "cell_type": "markdown",
   "id": "8438fa53",
   "metadata": {},
   "source": [
    "## Get arbitrary data outputs"
   ]
  },
  {
   "cell_type": "code",
   "execution_count": 3,
   "id": "392e59ff",
   "metadata": {},
   "outputs": [],
   "source": [
    "with open('gcal.json', 'r') as f:\n",
    "    gcal = json.load(f)\n",
    "    \n",
    "with open('outlook.json', 'r') as f:\n",
    "    outlook = json.load(f)"
   ]
  },
  {
   "cell_type": "markdown",
   "id": "9c1835e6",
   "metadata": {
    "slideshow": {
     "slide_type": "slide"
    }
   },
   "source": [
    "## Provide the schema for the data you want\n",
    "\n",
    "Fields I want:\n",
    "```\n",
    "{\n",
    "    \"id\": \"string\",\n",
    "    \"start_time\": \"timestamp\",\n",
    "    \"end_time\": \"timestamp\",\n",
    "    \"time_zone\": \"string\",\n",
    "    \"status\": \"string - confirmed/busy/tentative\",\n",
    "    \"location\": \"string\",\n",
    "    \"summary\": \"string\",\n",
    "    \"subject\": \"string\",\n",
    "    \"recurrance\": \"boolean\",\n",
    "    \"visibility\":\"string\"\n",
    "}\n",
    "```"
   ]
  },
  {
   "cell_type": "code",
   "execution_count": 4,
   "id": "111b8998",
   "metadata": {
    "scrolled": true
   },
   "outputs": [],
   "source": [
    "# desired_schema = {\n",
    "#     \"id\": \"string\",\n",
    "#     \"start_time\": \"timestamp\",\n",
    "#     \"end_time\": \"timestamp\",\n",
    "#     \"time_zone\": \"string\",\n",
    "#     \"status\": \"string - confirmed/busy/tentative\",\n",
    "#     \"location\": \"string\",\n",
    "#     \"summary\": \"string\",\n",
    "#     \"subject\": \"string\",\n",
    "#     \"recurrance\": \"boolean\",\n",
    "#     \"visibility\":\"string\"\n",
    "# }\n",
    "\n",
    "desired_schema = {\n",
    "  \"$schema\": \"http://json-schema.org/draft-07/schema#\",\n",
    "  \"type\": \"object\",\n",
    "  \"properties\": {\n",
    "    \"id\": {\n",
    "      \"type\": \"string\"\n",
    "    },\n",
    "    \"start_time\": {\n",
    "      \"$ref\": \"#/$defs/timestamp\"\n",
    "    },\n",
    "    \"end_time\": {\n",
    "      \"$ref\": \"#/$defs/timestamp\"\n",
    "    },\n",
    "    \"time_zone\": {\n",
    "      \"type\": \"string\"\n",
    "    },\n",
    "    \"status\": {\n",
    "      \"type\": \"string\",\n",
    "      \"enum\": [\"confirmed\", \"busy\", \"tentative\"]\n",
    "    },\n",
    "    \"location\": {\n",
    "      \"type\": \"string\"\n",
    "    },\n",
    "    \"summary\": {\n",
    "      \"type\": \"string\"\n",
    "    },\n",
    "    \"subject\": {\n",
    "      \"type\": \"string\"\n",
    "    },\n",
    "    \"recurrance\": {\n",
    "      \"type\": \"boolean\"\n",
    "    },\n",
    "    \"visibility\": {\n",
    "      \"type\": \"string\"\n",
    "    }\n",
    "  },\n",
    "  \"required\": [\"id\", \"start_time\", \"end_time\", \"status\", \"subject\", \"recurrance\", \"visibility\"],\n",
    "  \"$defs\": {\n",
    "    \"timestamp\": {\n",
    "      \"type\": \"string\",\n",
    "      \"format\": \"date-time\"\n",
    "    }\n",
    "  }\n",
    "}"
   ]
  },
  {
   "cell_type": "markdown",
   "id": "73e2f9cb",
   "metadata": {},
   "source": [
    "### Validation layer"
   ]
  },
  {
   "cell_type": "code",
   "execution_count": 5,
   "id": "26e6b452",
   "metadata": {},
   "outputs": [],
   "source": [
    "import instructor\n",
    "from openai import OpenAI\n",
    "from pydantic import BaseModel\n",
    "\n",
    "# Enables `response_model`\n",
    "client = instructor.patch(OpenAI())\n",
    "\n",
    "\n",
    "class UserDetail(BaseModel):\n",
    "    name: str\n",
    "    age: int\n",
    "\n",
    "\n",
    "user = client.chat.completions.create(\n",
    "    model=\"gpt-3.5-turbo\",\n",
    "    response_model=UserDetail,\n",
    "    messages=[\n",
    "        {\"role\": \"user\", \"content\": \"Extract Jason is 25 years old\"},\n",
    "    ],\n",
    ")\n",
    "\n",
    "assert isinstance(user, UserDetail)\n",
    "assert user.name == \"Jason\"\n",
    "assert user.age == 25"
   ]
  },
  {
   "cell_type": "code",
   "execution_count": 6,
   "id": "4ae53ecf",
   "metadata": {},
   "outputs": [],
   "source": [
    "from dyntamic.factory import DyntamicFactory"
   ]
  },
  {
   "cell_type": "code",
   "execution_count": 7,
   "id": "74342e08",
   "metadata": {},
   "outputs": [],
   "source": [
    "messages = [{\n",
    "             \"role\": \"system\",\n",
    "             \"content\": \"\"\"You are a perfect system designed to validate and extract data from JSON files. \n",
    "For each field, you provide a short check about your reasoning. Go line by line and do a side by side comparison. For example:\n",
    "\n",
    "\"id\" | \"id\" : The field name is identical\n",
    "\"time\" | \"timestamp\": This is the same concept and is a partial match, therefore it counts.\n",
    "\"cats\" | None: There no matching or remotely similar fields.\n",
    "\n",
    "Some fields may not have the exact same names. Use your best judgement about the meaning of the field to determine if they should count.\n",
    "\n",
    "You come to a definitive conclusion- True or False at the end of your response.\"\"\"\n",
    "            }, \n",
    "            {\n",
    "             \"role\": \"user\",\n",
    "             \"content\": f\"Here is the desired schema: \\n {desired_schema}\\n\\n Are all REQUIRED fields present in {gcal} \"\n",
    "            }]\n",
    "\n",
    "reasoning_response = client.chat.completions.create(messages=messages, model=\"gpt-4-0125-preview\")\n",
    "\n"
   ]
  },
  {
   "cell_type": "code",
   "execution_count": 8,
   "id": "3fbc9a8c",
   "metadata": {},
   "outputs": [
    {
     "name": "stdout",
     "output_type": "stream",
     "text": [
      "To determine if all REQUIRED fields from the desired schema are present in the provided JSON, we'll check each required field against the JSON data:\n",
      "\n",
      "1. \"id\" | \"id\": The field name is identical and present.\n",
      "2. \"start_time\" | \"start\" -> \"dateTime\": Although named differently, \"start\" contains \"dateTime\" which fulfills the concept of \"start_time\".\n",
      "3. \"end_time\" | \"end\" -> \"dateTime\": Similarly, \"end\" contains \"dateTime\", fulfilling the concept of \"end_time\".\n",
      "4. \"status\" | \"status\": The field name is identical and present.\n",
      "5. \"subject\" | None: There is no direct match for \"subject\", however, \"summary\" could be considered its equivalent as it is a descriptive field about the event.\n",
      "6. \"recurrance\" | \"recurrence\": The field names are similar, with a minor spelling difference (\"recurrance\" vs. \"recurrence\"), but they describe the same concept.\n",
      "7. \"visibility\" | \"visibility\": The field name is identical and present.\n",
      "\n",
      "Based on the analysis:\n",
      "\n",
      "- The key field \"subject\" requires judgment. While not directly present, \"summary\" can serve the purpose of describing the event, which suggests they are conceptually similar. Hence, it might be considered a match.\n",
      "\n",
      "Conclusion: **True**, under the presumption that \"subject\" and \"summary\" are considered equivalent thereby fulfilling the requirement for all required fields to be present, taking into account the concept and purpose behind the field names rather than strict naming conventions.\n"
     ]
    }
   ],
   "source": [
    "reasoning = reasoning_response.choices[0].message.content\n",
    "print(reasoning)"
   ]
  },
  {
   "cell_type": "code",
   "execution_count": 9,
   "id": "394d7c0c",
   "metadata": {},
   "outputs": [],
   "source": [
    "messages = [{\n",
    "             \"role\": \"system\",\n",
    "             \"content\": \"You are a perfect system designed to evaluation a statement. You reply ONLY True or False. Do not use any natural language whatsoever.\"\n",
    "            }, \n",
    "            {\n",
    "             \"role\": \"user\",\n",
    "             \"content\": f\"Evaluate this statement: {reasoning}\"\n",
    "            },\n",
    "            {\n",
    "             \"role\": \"user\",\n",
    "             \"content\": f\"Is the conclusion True or False?\"\n",
    "            }]\n",
    "\n",
    "conclusion_response = client.chat.completions.create(messages=messages,\n",
    "                                                     model=\"gpt-3.5-turbo\")"
   ]
  },
  {
   "cell_type": "code",
   "execution_count": 10,
   "id": "a23e0ad5",
   "metadata": {},
   "outputs": [
    {
     "data": {
      "text/plain": [
       "'False.'"
      ]
     },
     "execution_count": 10,
     "metadata": {},
     "output_type": "execute_result"
    }
   ],
   "source": [
    "conclusion_response.choices[0].message.content"
   ]
  },
  {
   "cell_type": "markdown",
   "id": "ebc189b7",
   "metadata": {},
   "source": [
    "### 2. Devise a way to pull the fields from the data we have\n",
    "\n",
    "**Testing it out...**"
   ]
  },
  {
   "cell_type": "code",
   "execution_count": 11,
   "id": "307125ab",
   "metadata": {},
   "outputs": [],
   "source": [
    "# Find the keys\n",
    "\n",
    "def create_jq_reasoning(input_schema, output_schema):\n",
    "    messages = [{\n",
    "                 \"role\": \"system\",\n",
    "                 \"content\": \"\"\"You are a perfect jq engineer designed to validate and extract data from JSON files using jq.\n",
    "                 \n",
    "Your task is to provide the jq filter needed for finding the data necessary to answering a query. Before constructing the query, reason line-by-line through the requirements of the schema and propose how you will extract the data using jq. Then, provide how that would look like in jq code form on that line..\n",
    "\n",
    "The key names many not be exact matches, do your best to find whichever key is most likely to match. For example, `eventId` may correspond with `id` or `time` may correspond with `timestamp`. \n",
    "\"\"\"\n",
    "                }, \n",
    "                {\n",
    "                 \"role\": \"user\",\n",
    "                 \"content\": f\"Here is the data we are querying: \\n {input_schema}\\n\\n How will we extract all the fields from the source and transform it into {output_schema}?\"\n",
    "                }]\n",
    "\n",
    "    response = client.chat.completions.create(messages=messages, model=\"gpt-4-0125-preview\")\n",
    "    return response.choices[0].message.content"
   ]
  },
  {
   "cell_type": "code",
   "execution_count": 12,
   "id": "b86376c8",
   "metadata": {},
   "outputs": [],
   "source": [
    "jq_reasoning = create_jq_reasoning(desired_schema, gcal)"
   ]
  },
  {
   "cell_type": "code",
   "execution_count": 13,
   "id": "e072315f",
   "metadata": {
    "scrolled": true
   },
   "outputs": [
    {
     "name": "stdout",
     "output_type": "stream",
     "text": [
      "To extract and transform the given data structure into the desired output structure using jq, I will:\n",
      "\n",
      "1. Convert the `$schema` key to a static `kind` value `calendar#event`.\n",
      "2. Leave `etag` as a static value, as no etag is available in the source.\n",
      "3. Extract `id`, `status`, `location`, `summary`, and `visibility` directly from the source as they match directly to the desired output.\n",
      "4. Substitute `start_time` and `end_time` with `created` and `updated` respectively, assuming `start_time` represents `created` and `end_time` represents `updated`. Note that these mappings might not perfectly reflect the intention of the original schema without further context.\n",
      "5. Assume that `time_zone` pertains to the `timeZone` fields under `start` and `end` objects.\n",
      "6. Due to the transformation's static nature and the missing data in the source that matches the specified output directly (e.g., `htmlLink`, `colorId`, among others), these will be set as static values or omitted where appropriate.\n",
      "\n",
      "Considering the above steps, the jq filter would look something like this:\n",
      "\n",
      "```jq\n",
      "{\n",
      "  \"kind\": \"calendar#event\",\n",
      "  \"etag\": \"\\\"317317317317317317\\\"\",\n",
      "  \"id\": .id,\n",
      "  \"status\": .status,\n",
      "  \"htmlLink\": \"https://www.google.com/calendar/event?eid=\\(.id)\",\n",
      "  \"created\": .start_time,\n",
      "  \"updated\": .end_time,\n",
      "  \"summary\": .summary,\n",
      "  \"description\": .subject, # Assuming subject corresponds to description\n",
      "  \"location\": .location,\n",
      "  \"colorId\": \"9\", # Static, as no direct correspondence\n",
      "  \"creator\": {}, # Static, missing creator info in source, empty object for placeholder\n",
      "  \"organizer\": {}, # Static, missing organizer info in source, empty object for placeholder\n",
      "  \"start\": {\n",
      "    \"date\": null,\n",
      "    \"dateTime\": .start_time,\n",
      "    \"timeZone\": .time_zone\n",
      "  },\n",
      "  \"end\": {\n",
      "    \"date\": null,\n",
      "    \"dateTime\": .end_time,\n",
      "    \"timeZone\": .time_zone\n",
      "  },\n",
      "  \"endTimeUnspecified\": false, # Assuming based on available data\n",
      "  \"recurrence\": [], # Static, no direct correspondence in source\n",
      "  \"visibility\": .visibility,\n",
      "  \"iCalUID\": \"\\(.id)@google.com\",\n",
      "  \"sequence\": 0, # Assuming default sequence\n",
      "  # Skipping static values or objects not directly translatable from source\n",
      "}\n",
      "```\n",
      "\n",
      "This `jq` filter assumes:\n",
      "- The `subject` of the event is akin to a `description` in the desired format.\n",
      "- Certain pieces of information like the `creator`, `organizer`, and details about `recurrence`, `attendees`, etc., are either not available in the source or need to be statically defined due to the lack of corresponding data.\n",
      "- Where necessary, placeholders (like empty arrays or objects, and `null` values) are used to satisfy the structure of the target format without corresponding source data.\n"
     ]
    }
   ],
   "source": [
    "print(jq_reasoning)"
   ]
  },
  {
   "cell_type": "markdown",
   "id": "beb8eee2",
   "metadata": {},
   "source": [
    "## Condense into a single filter"
   ]
  },
  {
   "cell_type": "code",
   "execution_count": 14,
   "id": "2dea07fd",
   "metadata": {},
   "outputs": [],
   "source": [
    "def condense_response(reasoning, query=None, error=None):\n",
    "    prompt = f\"Condense down this reasoning into a single jq filter string: {reasoning}\"\n",
    "    messages = [{\n",
    "                 \"role\": \"system\",\n",
    "                 \"content\": \"You are a perfect jq engineer designed to validate and extract data from JSON files using jq. Condense down this reasoning into a single jq filter string. Do not use any natural language whatsoever. Do NOT use markdown, only provide raw strings.\"\n",
    "                }, \n",
    "                {\n",
    "                 \"role\": \"user\",\n",
    "                 \"content\": f\"Condense down this reasoning into a single jq filter string: {reasoning}\"\n",
    "                }]\n",
    "    \n",
    "    if error:\n",
    "        messages.append({\n",
    "            \"role\": \"assistant\",\n",
    "            \"content\": f\"\"\"jq query: {query}\n",
    "Error: {error}\n",
    "\"\"\"})\n",
    "\n",
    "        \n",
    "    jq_response = client.chat.completions.create(messages=messages,\n",
    "                                                         model=\"gpt-4-0125-preview\")\n",
    "    return jq_response.choices[0].message.content"
   ]
  },
  {
   "cell_type": "code",
   "execution_count": 27,
   "id": "024522ab",
   "metadata": {},
   "outputs": [],
   "source": [
    "def verify_match(result, output_schema):\n",
    "    messages = [{\n",
    "                \"role\": \"system\",\n",
    "                \"content\": \"You are a perfect jq engineer designed to validate and extract data from JSON files using jq. Do NOT reply in natural language. Only reply True or False\"\n",
    "                },\n",
    "                {\n",
    "                \"role\": \"user\",\n",
    "                \"content\": f\"\"\"Does the result match the schema we provided?\n",
    "\n",
    "Result: {result}\n",
    "\n",
    "Schema: {output_schema}\"\"\"}]\n",
    "    response = client.chat.completions.create(messages=messages,\n",
    "                                              model=\"gpt-4-0125-preview\")\n",
    "    return response.choices[0].message.content    \n",
    "    \n",
    "    "
   ]
  },
  {
   "cell_type": "markdown",
   "id": "deb58bae",
   "metadata": {},
   "source": [
    "## Try jq"
   ]
  },
  {
   "cell_type": "code",
   "execution_count": 28,
   "id": "f324b42e",
   "metadata": {},
   "outputs": [],
   "source": [
    "jq_reasoning = create_jq_reasoning(desired_schema, gcal)"
   ]
  },
  {
   "cell_type": "code",
   "execution_count": 29,
   "id": "109fa876",
   "metadata": {
    "scrolled": true
   },
   "outputs": [
    {
     "name": "stdout",
     "output_type": "stream",
     "text": [
      "jq: error: syntax error, unexpected '(', expecting end of file (Unix shell quoting issues?) at <top-level>, line 1:\n",
      ".has(\"id\", \"status\", \"visibility\") and (.start | has(\"dateTime\")) and (.end | has(\"dateTime\")) and (.has(\"summary\") or .has(\"subject\")) and .has(\"recurrence\")    \n",
      "jq: 1 compile error\n",
      "****\n",
      "jq: error: syntax error, unexpected '(', expecting end of file (Unix shell quoting issues?) at <top-level>, line 1:\n",
      ".all(([\"id\", \"start.dateTime\", \"end.dateTime\", \"status\", \"summary\", \"recurrence\", \"visibility\"] | map(has(.)) | add) == 7)    \n",
      "jq: 1 compile error\n",
      "****\n",
      "jq: error: syntax error, unexpected '(', expecting end of file (Unix shell quoting issues?) at <top-level>, line 1:\n",
      ".has(\"id\", \"status\", \"visibility\") and (.start | has(\"dateTime\")) and (.end | has(\"dateTime\")) and ((.summary != null) or (.subject != null)) and ((.recurrance != null) or (.recurrence != null))    \n",
      "jq: 1 compile error\n",
      "****\n",
      "jq: error: syntax error, unexpected '(', expecting end of file (Unix shell quoting issues?) at <top-level>, line 1:\n",
      ".all(([\"id\", \"start.dateTime\", \"end.dateTime\", \"status\", \"summary\", \"recurrence\", \"visibility\"] | in(.)) // false)    \n",
      "jq: 1 compile error\n",
      "****\n",
      "jq: error: syntax error, unexpected '(', expecting end of file (Unix shell quoting issues?) at <top-level>, line 1:\n",
      ".all(has(\"id\"), (.start | has(\"dateTime\")), (.end | has(\"dateTime\")), has(\"status\"), has(\"summary\"), has(\"recurrence\"), has(\"visibility\"))    \n",
      "jq: 1 compile error\n",
      "****\n",
      "Cannot check whether string has a string key\n",
      "****\n",
      "jq: error: syntax error, unexpected '(', expecting end of file (Unix shell quoting issues?) at <top-level>, line 1:\n",
      ".all(has(\"id\"), has(\"status\"), has(\"visibility\"), (.start | has(\"dateTime\")), (.end | has(\"dateTime\")), has(\"summary\") or has(\"subject\"), has(\"recurrance\") or has(\"recurrence\"))    \n",
      "jq: 1 compile error\n",
      "****\n",
      "jq: error: syntax error, unexpected '(', expecting end of file (Unix shell quoting issues?) at <top-level>, line 1:\n",
      ".all((\"id\", \"start.dateTime\", \"end.dateTime\", \"status\", \"summary\", \"recurrence\", \"visibility\") | . as $key | has($key))    \n",
      "jq: 1 compile error\n",
      "****\n",
      "Cannot check whether string has a string key\n",
      "****\n",
      "jq: error: syntax error, unexpected '(', expecting end of file (Unix shell quoting issues?) at <top-level>, line 1:\n",
      ".has(\"id\", \"status\", \"visibility\") and (.start | has(\"dateTime\")) and (.end | has(\"dateTime\")) and (.recurrance // .recurrence // null) and (.subject // .summary // null)    \n",
      "jq: 1 compile error\n",
      "****\n",
      "jq: error: syntax error, unexpected '(', expecting end of file (Unix shell quoting issues?) at <top-level>, line 1:\n",
      ".all(has(\"id\"), .start | has(\"dateTime\"), .end | has(\"dateTime\"), has(\"status\"), has(\"summary\"), has(\"recurrence\"), has(\"visibility\"))    \n",
      "jq: 1 compile error\n",
      "****\n",
      "jq: error: syntax error, unexpected '(', expecting end of file (Unix shell quoting issues?) at <top-level>, line 1:\n",
      ".has(\"id\", \"status\", \"visibility\") and (.start | has(\"dateTime\")) and (.end | has(\"dateTime\")) and (has(\"summary\") or has(\"subject\")) and (has(\"recurrence\") or has(\"recurrance\"))    \n",
      "jq: 1 compile error\n",
      "****\n",
      "jq: error: syntax error, unexpected '(', expecting end of file (Unix shell quoting issues?) at <top-level>, line 1:\n",
      ".all(. != null) and (.start.dateTime != null) and (.end.dateTime != null) and ((.subject != null) or (.summary != null))    \n",
      "jq: 1 compile error\n",
      "****\n",
      "jq: error: syntax error, unexpected '(', expecting end of file (Unix shell quoting issues?) at <top-level>, line 1:\n",
      ".all(([\"id\", \"status\", \"visibility\", \"summary\", \"recurrence\"] | map(has(.)) + [\"start\", \"end\"] | map(has(\"dateTime\"))) | add), true) and (.summary != null)    \n",
      "jq: 1 compile error\n",
      "****\n",
      "jq: error: syntax error, unexpected '(', expecting end of file (Unix shell quoting issues?) at <top-level>, line 1:\n",
      ".has(\"id\") and (.start | has(\"dateTime\")) and (.end | has(\"dateTime\")) and .has(\"status\") and .has(\"summary\") and .has(\"recurrence\") and .has(\"visibility\")    \n",
      "jq: 1 compile error\n",
      "****\n",
      "jq: error: syntax error, unexpected '(', expecting end of file (Unix shell quoting issues?) at <top-level>, line 1:\n",
      ".all(has(\"id\"), has(\"status\"), has(\"visibility\"), (.start | has(\"dateTime\")), (.end | has(\"dateTime\")), has(\"recurrence\"), has(\"summary\"))    \n",
      "jq: 1 compile error\n",
      "****\n",
      "jq: error: syntax error, unexpected '(', expecting end of file (Unix shell quoting issues?) at <top-level>, line 1:\n",
      ".all(has(\"id\"), (.start | has(\"dateTime\")), (.end | has(\"dateTime\")), has(\"status\"), has(\"summary\"), has(\"recurrence\"), has(\"visibility\"))    \n",
      "jq: 1 compile error\n",
      "****\n",
      "jq: error: syntax error, unexpected '(', expecting end of file (Unix shell quoting issues?) at <top-level>, line 1:\n",
      ".all(has(\"id\"), has(\"start.dateTime\"), has(\"end.dateTime\"), has(\"status\"), has(\"summary\"), has(\"recurrence\"), has(\"visibility\"))    \n",
      "jq: 1 compile error\n",
      "****\n",
      "jq: error: syntax error, unexpected '(', expecting end of file (Unix shell quoting issues?) at <top-level>, line 1:\n",
      ".all((.id? // false) and (.start?.dateTime? // false) and (.end?.dateTime? // false) and (.status? // false) and (.summary? // false) and (.recurrence? // false) and (.visibility? // false))    \n",
      "jq: 1 compile error\n",
      "****\n",
      "jq: error: syntax error, unexpected '(', expecting end of file (Unix shell quoting issues?) at <top-level>, line 1:\n",
      ".has(\"id\", \"status\", \"visibility\") and (.start | has(\"dateTime\")) and (.end | has(\"dateTime\")) and (.recurrence // .recurrance) and .summary    \n",
      "jq: 1 compile error\n",
      "****\n",
      "jq: error: syntax error, unexpected '(', expecting end of file (Unix shell quoting issues?) at <top-level>, line 1:\n",
      ".has(\"id\") and (.start | has(\"dateTime\")) and (.end | has(\"dateTime\")) and .has(\"status\") and .has(\"summary\") and .has(\"recurrence\") and .has(\"visibility\")    \n",
      "jq: 1 compile error\n",
      "****\n",
      "jq: error: syntax error, unexpected '(', expecting end of file (Unix shell quoting issues?) at <top-level>, line 1:\n",
      ".has(\"id\") and (.start | has(\"dateTime\")) and (.end | has(\"dateTime\")) and .has(\"status\") and .has(\"summary\") and (.has(\"recurrence\") or .has(\"recurrance\")) and .has(\"visibility\")    \n",
      "jq: 1 compile error\n",
      "****\n",
      "jq: error: syntax error, unexpected '(', expecting end of file (Unix shell quoting issues?) at <top-level>, line 1:\n",
      ".all(has(\"id\"), (.start | has(\"dateTime\")), (.end | has(\"dateTime\")), has(\"status\"), has(\"summary\"), has(\"recurrence\"), has(\"visibility\"))    \n",
      "jq: 1 compile error\n",
      "****\n",
      "jq: error: syntax error, unexpected '(', expecting end of file (Unix shell quoting issues?) at <top-level>, line 1:\n",
      ".has(\"id\", \"status\", \"visibility\") and (.start | has(\"dateTime\")) and (.end | has(\"dateTime\")) and (. | has(\"summary\", \"recurrence\"))    \n",
      "jq: 1 compile error\n",
      "****\n",
      "Cannot index string with string \"id\"\n",
      "****\n",
      "jq: error: syntax error, unexpected '(', expecting end of file (Unix shell quoting issues?) at <top-level>, line 1:\n",
      ".all([\"id\", \"start.dateTime\", \"end.dateTime\", \"status\", \"summary\", \"recurrence\", \"visibility\"] | in(.))    \n",
      "jq: 1 compile error\n",
      "****\n",
      "jq: error: syntax error, unexpected '(', expecting end of file (Unix shell quoting issues?) at <top-level>, line 1:\n",
      ".has(\"id\") and (.start | has(\"dateTime\")) and (.end | has(\"dateTime\")) and has(\"status\") and has(\"summary\") and has(\"recurrence\") and has(\"visibility\")    \n",
      "jq: 1 compile error\n",
      "****\n",
      "jq: error: syntax error, unexpected '(', expecting end of file (Unix shell quoting issues?) at <top-level>, line 1:\n",
      ".has(\"id\", \"status\", \"visibility\") and (.start | has(\"dateTime\")) and (.end | has(\"dateTime\")) and ((.summary // null) != null or (.subject // null) != null) and ((.recurrance // null) != null or (.recurrence // null) != null)    \n",
      "jq: 1 compile error\n",
      "****\n"
     ]
    },
    {
     "ename": "KeyboardInterrupt",
     "evalue": "",
     "output_type": "error",
     "traceback": [
      "\u001b[0;31m---------------------------------------------------------------------------\u001b[0m",
      "\u001b[0;31mValueError\u001b[0m                                Traceback (most recent call last)",
      "Cell \u001b[0;32mIn[29], line 5\u001b[0m\n\u001b[1;32m      4\u001b[0m \u001b[38;5;28;01mtry\u001b[39;00m:\n\u001b[0;32m----> 5\u001b[0m     transformed_data \u001b[38;5;241m=\u001b[39m jq\u001b[38;5;241m.\u001b[39mcompile(jq_filter)\u001b[38;5;241m.\u001b[39minput(gcal)\u001b[38;5;241m.\u001b[39mall()\n\u001b[1;32m      7\u001b[0m     match_results \u001b[38;5;241m=\u001b[39m verify_match(transformed_data, desired_schema)\n",
      "File \u001b[0;32mjq.pyx:135\u001b[0m, in \u001b[0;36mjq.compile\u001b[0;34m()\u001b[0m\n",
      "File \u001b[0;32mjq.pyx:247\u001b[0m, in \u001b[0;36mjq._Program.__cinit__\u001b[0;34m()\u001b[0m\n",
      "File \u001b[0;32mjq.pyx:218\u001b[0m, in \u001b[0;36mjq._JqStatePool.__cinit__\u001b[0;34m()\u001b[0m\n",
      "File \u001b[0;32mjq.pyx:169\u001b[0m, in \u001b[0;36mjq._compile\u001b[0;34m()\u001b[0m\n",
      "File \u001b[0;32mjq.pyx:152\u001b[0m, in \u001b[0;36mjq._compile\u001b[0;34m()\u001b[0m\n",
      "File \u001b[0;32mjq.pyx:163\u001b[0m, in \u001b[0;36mjq._compile\u001b[0;34m()\u001b[0m\n",
      "\u001b[0;31mValueError\u001b[0m: jq: error: syntax error, unexpected '(', expecting end of file (Unix shell quoting issues?) at <top-level>, line 1:\n.has(\"id\", \"status\", \"visibility\") and (.start | has(\"dateTime\")) and (.end | has(\"dateTime\")) and ((.summary // null) != null or (.subject // null) != null) and ((.recurrance // null) != null or (.recurrence // null) != null)    \njq: 1 compile error",
      "\nDuring handling of the above exception, another exception occurred:\n",
      "\u001b[0;31mKeyboardInterrupt\u001b[0m                         Traceback (most recent call last)",
      "Cell \u001b[0;32mIn[29], line 27\u001b[0m\n\u001b[1;32m     25\u001b[0m \u001b[38;5;28mprint\u001b[39m(\u001b[38;5;28mstr\u001b[39m(e))\n\u001b[1;32m     26\u001b[0m \u001b[38;5;28mprint\u001b[39m(\u001b[38;5;124m'\u001b[39m\u001b[38;5;124m****\u001b[39m\u001b[38;5;124m'\u001b[39m)\n\u001b[0;32m---> 27\u001b[0m jq_filter \u001b[38;5;241m=\u001b[39m condense_response(reasoning, jq_filter, \u001b[38;5;28mstr\u001b[39m(e))\n",
      "Cell \u001b[0;32mIn[14], line 20\u001b[0m, in \u001b[0;36mcondense_response\u001b[0;34m(reasoning, query, error)\u001b[0m\n\u001b[1;32m     12\u001b[0m     \u001b[38;5;28;01mif\u001b[39;00m error:\n\u001b[1;32m     13\u001b[0m         messages\u001b[38;5;241m.\u001b[39mappend({\n\u001b[1;32m     14\u001b[0m             \u001b[38;5;124m\"\u001b[39m\u001b[38;5;124mrole\u001b[39m\u001b[38;5;124m\"\u001b[39m: \u001b[38;5;124m\"\u001b[39m\u001b[38;5;124massistant\u001b[39m\u001b[38;5;124m\"\u001b[39m,\n\u001b[1;32m     15\u001b[0m             \u001b[38;5;124m\"\u001b[39m\u001b[38;5;124mcontent\u001b[39m\u001b[38;5;124m\"\u001b[39m: \u001b[38;5;124mf\u001b[39m\u001b[38;5;124m\"\"\"\u001b[39m\u001b[38;5;124mjq query: \u001b[39m\u001b[38;5;132;01m{\u001b[39;00mquery\u001b[38;5;132;01m}\u001b[39;00m\n\u001b[1;32m     16\u001b[0m \u001b[38;5;124mError: \u001b[39m\u001b[38;5;132;01m{\u001b[39;00merror\u001b[38;5;132;01m}\u001b[39;00m\n\u001b[1;32m     17\u001b[0m \u001b[38;5;124m\"\"\"\u001b[39m})\n\u001b[0;32m---> 20\u001b[0m     jq_response \u001b[38;5;241m=\u001b[39m client\u001b[38;5;241m.\u001b[39mchat\u001b[38;5;241m.\u001b[39mcompletions\u001b[38;5;241m.\u001b[39mcreate(messages\u001b[38;5;241m=\u001b[39mmessages,\n\u001b[1;32m     21\u001b[0m                                                          model\u001b[38;5;241m=\u001b[39m\u001b[38;5;124m\"\u001b[39m\u001b[38;5;124mgpt-4-0125-preview\u001b[39m\u001b[38;5;124m\"\u001b[39m)\n\u001b[1;32m     22\u001b[0m     \u001b[38;5;28;01mreturn\u001b[39;00m jq_response\u001b[38;5;241m.\u001b[39mchoices[\u001b[38;5;241m0\u001b[39m]\u001b[38;5;241m.\u001b[39mmessage\u001b[38;5;241m.\u001b[39mcontent\n",
      "File \u001b[0;32m~/anaconda3/lib/python3.11/site-packages/instructor/patch.py:570\u001b[0m, in \u001b[0;36mpatch.<locals>.new_create_sync\u001b[0;34m(response_model, validation_context, max_retries, *args, **kwargs)\u001b[0m\n\u001b[1;32m    559\u001b[0m \u001b[38;5;129m@wraps\u001b[39m(func)\n\u001b[1;32m    560\u001b[0m \u001b[38;5;28;01mdef\u001b[39;00m \u001b[38;5;21mnew_create_sync\u001b[39m(\n\u001b[1;32m    561\u001b[0m     response_model: Type[T_Model] \u001b[38;5;241m=\u001b[39m \u001b[38;5;28;01mNone\u001b[39;00m,\n\u001b[0;32m   (...)\u001b[0m\n\u001b[1;32m    565\u001b[0m     \u001b[38;5;241m*\u001b[39m\u001b[38;5;241m*\u001b[39mkwargs: T_ParamSpec\u001b[38;5;241m.\u001b[39mkwargs,\n\u001b[1;32m    566\u001b[0m ) \u001b[38;5;241m-\u001b[39m\u001b[38;5;241m>\u001b[39m T_Model:\n\u001b[1;32m    567\u001b[0m     response_model, new_kwargs \u001b[38;5;241m=\u001b[39m handle_response_model(\n\u001b[1;32m    568\u001b[0m         response_model\u001b[38;5;241m=\u001b[39mresponse_model, mode\u001b[38;5;241m=\u001b[39mmode, \u001b[38;5;241m*\u001b[39m\u001b[38;5;241m*\u001b[39mkwargs\n\u001b[1;32m    569\u001b[0m     )\n\u001b[0;32m--> 570\u001b[0m     response \u001b[38;5;241m=\u001b[39m retry_sync(\n\u001b[1;32m    571\u001b[0m         func\u001b[38;5;241m=\u001b[39mfunc,\n\u001b[1;32m    572\u001b[0m         response_model\u001b[38;5;241m=\u001b[39mresponse_model,\n\u001b[1;32m    573\u001b[0m         validation_context\u001b[38;5;241m=\u001b[39mvalidation_context,\n\u001b[1;32m    574\u001b[0m         max_retries\u001b[38;5;241m=\u001b[39mmax_retries,\n\u001b[1;32m    575\u001b[0m         args\u001b[38;5;241m=\u001b[39margs,\n\u001b[1;32m    576\u001b[0m         kwargs\u001b[38;5;241m=\u001b[39mnew_kwargs,\n\u001b[1;32m    577\u001b[0m         mode\u001b[38;5;241m=\u001b[39mmode,\n\u001b[1;32m    578\u001b[0m     )\n\u001b[1;32m    579\u001b[0m     \u001b[38;5;28;01mreturn\u001b[39;00m response\n",
      "File \u001b[0;32m~/anaconda3/lib/python3.11/site-packages/instructor/patch.py:387\u001b[0m, in \u001b[0;36mretry_sync\u001b[0;34m(func, response_model, validation_context, args, kwargs, max_retries, strict, mode)\u001b[0m\n\u001b[1;32m    384\u001b[0m     \u001b[38;5;28;01mraise\u001b[39;00m \u001b[38;5;167;01mValueError\u001b[39;00m(\u001b[38;5;124m\"\u001b[39m\u001b[38;5;124mmax_retries must be an int or a `tenacity.Retrying` object\u001b[39m\u001b[38;5;124m\"\u001b[39m)\n\u001b[1;32m    386\u001b[0m \u001b[38;5;28;01mtry\u001b[39;00m:\n\u001b[0;32m--> 387\u001b[0m     \u001b[38;5;28;01mfor\u001b[39;00m attempt \u001b[38;5;129;01min\u001b[39;00m max_retries:\n\u001b[1;32m    388\u001b[0m         \u001b[38;5;28;01mwith\u001b[39;00m attempt:\n\u001b[1;32m    389\u001b[0m             \u001b[38;5;28;01mtry\u001b[39;00m:\n",
      "File \u001b[0;32m~/anaconda3/lib/python3.11/site-packages/tenacity/__init__.py:347\u001b[0m, in \u001b[0;36mBaseRetrying.__iter__\u001b[0;34m(self)\u001b[0m\n\u001b[1;32m    345\u001b[0m retry_state \u001b[38;5;241m=\u001b[39m RetryCallState(\u001b[38;5;28mself\u001b[39m, fn\u001b[38;5;241m=\u001b[39m\u001b[38;5;28;01mNone\u001b[39;00m, args\u001b[38;5;241m=\u001b[39m(), kwargs\u001b[38;5;241m=\u001b[39m{})\n\u001b[1;32m    346\u001b[0m \u001b[38;5;28;01mwhile\u001b[39;00m \u001b[38;5;28;01mTrue\u001b[39;00m:\n\u001b[0;32m--> 347\u001b[0m     do \u001b[38;5;241m=\u001b[39m \u001b[38;5;28mself\u001b[39m\u001b[38;5;241m.\u001b[39miter(retry_state\u001b[38;5;241m=\u001b[39mretry_state)\n\u001b[1;32m    348\u001b[0m     \u001b[38;5;28;01mif\u001b[39;00m \u001b[38;5;28misinstance\u001b[39m(do, DoAttempt):\n\u001b[1;32m    349\u001b[0m         \u001b[38;5;28;01myield\u001b[39;00m AttemptManager(retry_state\u001b[38;5;241m=\u001b[39mretry_state)\n",
      "File \u001b[0;32m~/anaconda3/lib/python3.11/site-packages/tenacity/__init__.py:314\u001b[0m, in \u001b[0;36mBaseRetrying.iter\u001b[0;34m(self, retry_state)\u001b[0m\n\u001b[1;32m    312\u001b[0m is_explicit_retry \u001b[38;5;241m=\u001b[39m fut\u001b[38;5;241m.\u001b[39mfailed \u001b[38;5;129;01mand\u001b[39;00m \u001b[38;5;28misinstance\u001b[39m(fut\u001b[38;5;241m.\u001b[39mexception(), TryAgain)\n\u001b[1;32m    313\u001b[0m \u001b[38;5;28;01mif\u001b[39;00m \u001b[38;5;129;01mnot\u001b[39;00m (is_explicit_retry \u001b[38;5;129;01mor\u001b[39;00m \u001b[38;5;28mself\u001b[39m\u001b[38;5;241m.\u001b[39mretry(retry_state)):\n\u001b[0;32m--> 314\u001b[0m     \u001b[38;5;28;01mreturn\u001b[39;00m fut\u001b[38;5;241m.\u001b[39mresult()\n\u001b[1;32m    316\u001b[0m \u001b[38;5;28;01mif\u001b[39;00m \u001b[38;5;28mself\u001b[39m\u001b[38;5;241m.\u001b[39mafter \u001b[38;5;129;01mis\u001b[39;00m \u001b[38;5;129;01mnot\u001b[39;00m \u001b[38;5;28;01mNone\u001b[39;00m:\n\u001b[1;32m    317\u001b[0m     \u001b[38;5;28mself\u001b[39m\u001b[38;5;241m.\u001b[39mafter(retry_state)\n",
      "File \u001b[0;32m~/anaconda3/lib/python3.11/concurrent/futures/_base.py:449\u001b[0m, in \u001b[0;36mFuture.result\u001b[0;34m(self, timeout)\u001b[0m\n\u001b[1;32m    447\u001b[0m     \u001b[38;5;28;01mraise\u001b[39;00m CancelledError()\n\u001b[1;32m    448\u001b[0m \u001b[38;5;28;01melif\u001b[39;00m \u001b[38;5;28mself\u001b[39m\u001b[38;5;241m.\u001b[39m_state \u001b[38;5;241m==\u001b[39m FINISHED:\n\u001b[0;32m--> 449\u001b[0m     \u001b[38;5;28;01mreturn\u001b[39;00m \u001b[38;5;28mself\u001b[39m\u001b[38;5;241m.\u001b[39m__get_result()\n\u001b[1;32m    451\u001b[0m \u001b[38;5;28mself\u001b[39m\u001b[38;5;241m.\u001b[39m_condition\u001b[38;5;241m.\u001b[39mwait(timeout)\n\u001b[1;32m    453\u001b[0m \u001b[38;5;28;01mif\u001b[39;00m \u001b[38;5;28mself\u001b[39m\u001b[38;5;241m.\u001b[39m_state \u001b[38;5;129;01min\u001b[39;00m [CANCELLED, CANCELLED_AND_NOTIFIED]:\n",
      "File \u001b[0;32m~/anaconda3/lib/python3.11/concurrent/futures/_base.py:401\u001b[0m, in \u001b[0;36mFuture.__get_result\u001b[0;34m(self)\u001b[0m\n\u001b[1;32m    399\u001b[0m \u001b[38;5;28;01mif\u001b[39;00m \u001b[38;5;28mself\u001b[39m\u001b[38;5;241m.\u001b[39m_exception:\n\u001b[1;32m    400\u001b[0m     \u001b[38;5;28;01mtry\u001b[39;00m:\n\u001b[0;32m--> 401\u001b[0m         \u001b[38;5;28;01mraise\u001b[39;00m \u001b[38;5;28mself\u001b[39m\u001b[38;5;241m.\u001b[39m_exception\n\u001b[1;32m    402\u001b[0m     \u001b[38;5;28;01mfinally\u001b[39;00m:\n\u001b[1;32m    403\u001b[0m         \u001b[38;5;66;03m# Break a reference cycle with the exception in self._exception\u001b[39;00m\n\u001b[1;32m    404\u001b[0m         \u001b[38;5;28mself\u001b[39m \u001b[38;5;241m=\u001b[39m \u001b[38;5;28;01mNone\u001b[39;00m\n",
      "File \u001b[0;32m~/anaconda3/lib/python3.11/site-packages/instructor/patch.py:390\u001b[0m, in \u001b[0;36mretry_sync\u001b[0;34m(func, response_model, validation_context, args, kwargs, max_retries, strict, mode)\u001b[0m\n\u001b[1;32m    388\u001b[0m \u001b[38;5;28;01mwith\u001b[39;00m attempt:\n\u001b[1;32m    389\u001b[0m     \u001b[38;5;28;01mtry\u001b[39;00m:\n\u001b[0;32m--> 390\u001b[0m         response \u001b[38;5;241m=\u001b[39m func(\u001b[38;5;241m*\u001b[39margs, \u001b[38;5;241m*\u001b[39m\u001b[38;5;241m*\u001b[39mkwargs)\n\u001b[1;32m    391\u001b[0m         stream \u001b[38;5;241m=\u001b[39m kwargs\u001b[38;5;241m.\u001b[39mget(\u001b[38;5;124m\"\u001b[39m\u001b[38;5;124mstream\u001b[39m\u001b[38;5;124m\"\u001b[39m, \u001b[38;5;28;01mFalse\u001b[39;00m)\n\u001b[1;32m    392\u001b[0m         \u001b[38;5;28;01mif\u001b[39;00m (\n\u001b[1;32m    393\u001b[0m             \u001b[38;5;28misinstance\u001b[39m(response, ChatCompletion)\n\u001b[1;32m    394\u001b[0m             \u001b[38;5;129;01mand\u001b[39;00m response\u001b[38;5;241m.\u001b[39musage \u001b[38;5;129;01mis\u001b[39;00m \u001b[38;5;129;01mnot\u001b[39;00m \u001b[38;5;28;01mNone\u001b[39;00m\n\u001b[1;32m    395\u001b[0m         ):\n",
      "File \u001b[0;32m~/anaconda3/lib/python3.11/site-packages/openai/_utils/_utils.py:275\u001b[0m, in \u001b[0;36mrequired_args.<locals>.inner.<locals>.wrapper\u001b[0;34m(*args, **kwargs)\u001b[0m\n\u001b[1;32m    273\u001b[0m             msg \u001b[38;5;241m=\u001b[39m \u001b[38;5;124mf\u001b[39m\u001b[38;5;124m\"\u001b[39m\u001b[38;5;124mMissing required argument: \u001b[39m\u001b[38;5;132;01m{\u001b[39;00mquote(missing[\u001b[38;5;241m0\u001b[39m])\u001b[38;5;132;01m}\u001b[39;00m\u001b[38;5;124m\"\u001b[39m\n\u001b[1;32m    274\u001b[0m     \u001b[38;5;28;01mraise\u001b[39;00m \u001b[38;5;167;01mTypeError\u001b[39;00m(msg)\n\u001b[0;32m--> 275\u001b[0m \u001b[38;5;28;01mreturn\u001b[39;00m func(\u001b[38;5;241m*\u001b[39margs, \u001b[38;5;241m*\u001b[39m\u001b[38;5;241m*\u001b[39mkwargs)\n",
      "File \u001b[0;32m~/anaconda3/lib/python3.11/site-packages/openai/resources/chat/completions.py:663\u001b[0m, in \u001b[0;36mCompletions.create\u001b[0;34m(self, messages, model, frequency_penalty, function_call, functions, logit_bias, logprobs, max_tokens, n, presence_penalty, response_format, seed, stop, stream, temperature, tool_choice, tools, top_logprobs, top_p, user, extra_headers, extra_query, extra_body, timeout)\u001b[0m\n\u001b[1;32m    611\u001b[0m \u001b[38;5;129m@required_args\u001b[39m([\u001b[38;5;124m\"\u001b[39m\u001b[38;5;124mmessages\u001b[39m\u001b[38;5;124m\"\u001b[39m, \u001b[38;5;124m\"\u001b[39m\u001b[38;5;124mmodel\u001b[39m\u001b[38;5;124m\"\u001b[39m], [\u001b[38;5;124m\"\u001b[39m\u001b[38;5;124mmessages\u001b[39m\u001b[38;5;124m\"\u001b[39m, \u001b[38;5;124m\"\u001b[39m\u001b[38;5;124mmodel\u001b[39m\u001b[38;5;124m\"\u001b[39m, \u001b[38;5;124m\"\u001b[39m\u001b[38;5;124mstream\u001b[39m\u001b[38;5;124m\"\u001b[39m])\n\u001b[1;32m    612\u001b[0m \u001b[38;5;28;01mdef\u001b[39;00m \u001b[38;5;21mcreate\u001b[39m(\n\u001b[1;32m    613\u001b[0m     \u001b[38;5;28mself\u001b[39m,\n\u001b[0;32m   (...)\u001b[0m\n\u001b[1;32m    661\u001b[0m     timeout: \u001b[38;5;28mfloat\u001b[39m \u001b[38;5;241m|\u001b[39m httpx\u001b[38;5;241m.\u001b[39mTimeout \u001b[38;5;241m|\u001b[39m \u001b[38;5;28;01mNone\u001b[39;00m \u001b[38;5;241m|\u001b[39m NotGiven \u001b[38;5;241m=\u001b[39m NOT_GIVEN,\n\u001b[1;32m    662\u001b[0m ) \u001b[38;5;241m-\u001b[39m\u001b[38;5;241m>\u001b[39m ChatCompletion \u001b[38;5;241m|\u001b[39m Stream[ChatCompletionChunk]:\n\u001b[0;32m--> 663\u001b[0m     \u001b[38;5;28;01mreturn\u001b[39;00m \u001b[38;5;28mself\u001b[39m\u001b[38;5;241m.\u001b[39m_post(\n\u001b[1;32m    664\u001b[0m         \u001b[38;5;124m\"\u001b[39m\u001b[38;5;124m/chat/completions\u001b[39m\u001b[38;5;124m\"\u001b[39m,\n\u001b[1;32m    665\u001b[0m         body\u001b[38;5;241m=\u001b[39mmaybe_transform(\n\u001b[1;32m    666\u001b[0m             {\n\u001b[1;32m    667\u001b[0m                 \u001b[38;5;124m\"\u001b[39m\u001b[38;5;124mmessages\u001b[39m\u001b[38;5;124m\"\u001b[39m: messages,\n\u001b[1;32m    668\u001b[0m                 \u001b[38;5;124m\"\u001b[39m\u001b[38;5;124mmodel\u001b[39m\u001b[38;5;124m\"\u001b[39m: model,\n\u001b[1;32m    669\u001b[0m                 \u001b[38;5;124m\"\u001b[39m\u001b[38;5;124mfrequency_penalty\u001b[39m\u001b[38;5;124m\"\u001b[39m: frequency_penalty,\n\u001b[1;32m    670\u001b[0m                 \u001b[38;5;124m\"\u001b[39m\u001b[38;5;124mfunction_call\u001b[39m\u001b[38;5;124m\"\u001b[39m: function_call,\n\u001b[1;32m    671\u001b[0m                 \u001b[38;5;124m\"\u001b[39m\u001b[38;5;124mfunctions\u001b[39m\u001b[38;5;124m\"\u001b[39m: functions,\n\u001b[1;32m    672\u001b[0m                 \u001b[38;5;124m\"\u001b[39m\u001b[38;5;124mlogit_bias\u001b[39m\u001b[38;5;124m\"\u001b[39m: logit_bias,\n\u001b[1;32m    673\u001b[0m                 \u001b[38;5;124m\"\u001b[39m\u001b[38;5;124mlogprobs\u001b[39m\u001b[38;5;124m\"\u001b[39m: logprobs,\n\u001b[1;32m    674\u001b[0m                 \u001b[38;5;124m\"\u001b[39m\u001b[38;5;124mmax_tokens\u001b[39m\u001b[38;5;124m\"\u001b[39m: max_tokens,\n\u001b[1;32m    675\u001b[0m                 \u001b[38;5;124m\"\u001b[39m\u001b[38;5;124mn\u001b[39m\u001b[38;5;124m\"\u001b[39m: n,\n\u001b[1;32m    676\u001b[0m                 \u001b[38;5;124m\"\u001b[39m\u001b[38;5;124mpresence_penalty\u001b[39m\u001b[38;5;124m\"\u001b[39m: presence_penalty,\n\u001b[1;32m    677\u001b[0m                 \u001b[38;5;124m\"\u001b[39m\u001b[38;5;124mresponse_format\u001b[39m\u001b[38;5;124m\"\u001b[39m: response_format,\n\u001b[1;32m    678\u001b[0m                 \u001b[38;5;124m\"\u001b[39m\u001b[38;5;124mseed\u001b[39m\u001b[38;5;124m\"\u001b[39m: seed,\n\u001b[1;32m    679\u001b[0m                 \u001b[38;5;124m\"\u001b[39m\u001b[38;5;124mstop\u001b[39m\u001b[38;5;124m\"\u001b[39m: stop,\n\u001b[1;32m    680\u001b[0m                 \u001b[38;5;124m\"\u001b[39m\u001b[38;5;124mstream\u001b[39m\u001b[38;5;124m\"\u001b[39m: stream,\n\u001b[1;32m    681\u001b[0m                 \u001b[38;5;124m\"\u001b[39m\u001b[38;5;124mtemperature\u001b[39m\u001b[38;5;124m\"\u001b[39m: temperature,\n\u001b[1;32m    682\u001b[0m                 \u001b[38;5;124m\"\u001b[39m\u001b[38;5;124mtool_choice\u001b[39m\u001b[38;5;124m\"\u001b[39m: tool_choice,\n\u001b[1;32m    683\u001b[0m                 \u001b[38;5;124m\"\u001b[39m\u001b[38;5;124mtools\u001b[39m\u001b[38;5;124m\"\u001b[39m: tools,\n\u001b[1;32m    684\u001b[0m                 \u001b[38;5;124m\"\u001b[39m\u001b[38;5;124mtop_logprobs\u001b[39m\u001b[38;5;124m\"\u001b[39m: top_logprobs,\n\u001b[1;32m    685\u001b[0m                 \u001b[38;5;124m\"\u001b[39m\u001b[38;5;124mtop_p\u001b[39m\u001b[38;5;124m\"\u001b[39m: top_p,\n\u001b[1;32m    686\u001b[0m                 \u001b[38;5;124m\"\u001b[39m\u001b[38;5;124muser\u001b[39m\u001b[38;5;124m\"\u001b[39m: user,\n\u001b[1;32m    687\u001b[0m             },\n\u001b[1;32m    688\u001b[0m             completion_create_params\u001b[38;5;241m.\u001b[39mCompletionCreateParams,\n\u001b[1;32m    689\u001b[0m         ),\n\u001b[1;32m    690\u001b[0m         options\u001b[38;5;241m=\u001b[39mmake_request_options(\n\u001b[1;32m    691\u001b[0m             extra_headers\u001b[38;5;241m=\u001b[39mextra_headers, extra_query\u001b[38;5;241m=\u001b[39mextra_query, extra_body\u001b[38;5;241m=\u001b[39mextra_body, timeout\u001b[38;5;241m=\u001b[39mtimeout\n\u001b[1;32m    692\u001b[0m         ),\n\u001b[1;32m    693\u001b[0m         cast_to\u001b[38;5;241m=\u001b[39mChatCompletion,\n\u001b[1;32m    694\u001b[0m         stream\u001b[38;5;241m=\u001b[39mstream \u001b[38;5;129;01mor\u001b[39;00m \u001b[38;5;28;01mFalse\u001b[39;00m,\n\u001b[1;32m    695\u001b[0m         stream_cls\u001b[38;5;241m=\u001b[39mStream[ChatCompletionChunk],\n\u001b[1;32m    696\u001b[0m     )\n",
      "File \u001b[0;32m~/anaconda3/lib/python3.11/site-packages/openai/_base_client.py:1200\u001b[0m, in \u001b[0;36mSyncAPIClient.post\u001b[0;34m(self, path, cast_to, body, options, files, stream, stream_cls)\u001b[0m\n\u001b[1;32m   1186\u001b[0m \u001b[38;5;28;01mdef\u001b[39;00m \u001b[38;5;21mpost\u001b[39m(\n\u001b[1;32m   1187\u001b[0m     \u001b[38;5;28mself\u001b[39m,\n\u001b[1;32m   1188\u001b[0m     path: \u001b[38;5;28mstr\u001b[39m,\n\u001b[0;32m   (...)\u001b[0m\n\u001b[1;32m   1195\u001b[0m     stream_cls: \u001b[38;5;28mtype\u001b[39m[_StreamT] \u001b[38;5;241m|\u001b[39m \u001b[38;5;28;01mNone\u001b[39;00m \u001b[38;5;241m=\u001b[39m \u001b[38;5;28;01mNone\u001b[39;00m,\n\u001b[1;32m   1196\u001b[0m ) \u001b[38;5;241m-\u001b[39m\u001b[38;5;241m>\u001b[39m ResponseT \u001b[38;5;241m|\u001b[39m _StreamT:\n\u001b[1;32m   1197\u001b[0m     opts \u001b[38;5;241m=\u001b[39m FinalRequestOptions\u001b[38;5;241m.\u001b[39mconstruct(\n\u001b[1;32m   1198\u001b[0m         method\u001b[38;5;241m=\u001b[39m\u001b[38;5;124m\"\u001b[39m\u001b[38;5;124mpost\u001b[39m\u001b[38;5;124m\"\u001b[39m, url\u001b[38;5;241m=\u001b[39mpath, json_data\u001b[38;5;241m=\u001b[39mbody, files\u001b[38;5;241m=\u001b[39mto_httpx_files(files), \u001b[38;5;241m*\u001b[39m\u001b[38;5;241m*\u001b[39moptions\n\u001b[1;32m   1199\u001b[0m     )\n\u001b[0;32m-> 1200\u001b[0m     \u001b[38;5;28;01mreturn\u001b[39;00m cast(ResponseT, \u001b[38;5;28mself\u001b[39m\u001b[38;5;241m.\u001b[39mrequest(cast_to, opts, stream\u001b[38;5;241m=\u001b[39mstream, stream_cls\u001b[38;5;241m=\u001b[39mstream_cls))\n",
      "File \u001b[0;32m~/anaconda3/lib/python3.11/site-packages/openai/_base_client.py:889\u001b[0m, in \u001b[0;36mSyncAPIClient.request\u001b[0;34m(self, cast_to, options, remaining_retries, stream, stream_cls)\u001b[0m\n\u001b[1;32m    880\u001b[0m \u001b[38;5;28;01mdef\u001b[39;00m \u001b[38;5;21mrequest\u001b[39m(\n\u001b[1;32m    881\u001b[0m     \u001b[38;5;28mself\u001b[39m,\n\u001b[1;32m    882\u001b[0m     cast_to: Type[ResponseT],\n\u001b[0;32m   (...)\u001b[0m\n\u001b[1;32m    887\u001b[0m     stream_cls: \u001b[38;5;28mtype\u001b[39m[_StreamT] \u001b[38;5;241m|\u001b[39m \u001b[38;5;28;01mNone\u001b[39;00m \u001b[38;5;241m=\u001b[39m \u001b[38;5;28;01mNone\u001b[39;00m,\n\u001b[1;32m    888\u001b[0m ) \u001b[38;5;241m-\u001b[39m\u001b[38;5;241m>\u001b[39m ResponseT \u001b[38;5;241m|\u001b[39m _StreamT:\n\u001b[0;32m--> 889\u001b[0m     \u001b[38;5;28;01mreturn\u001b[39;00m \u001b[38;5;28mself\u001b[39m\u001b[38;5;241m.\u001b[39m_request(\n\u001b[1;32m    890\u001b[0m         cast_to\u001b[38;5;241m=\u001b[39mcast_to,\n\u001b[1;32m    891\u001b[0m         options\u001b[38;5;241m=\u001b[39moptions,\n\u001b[1;32m    892\u001b[0m         stream\u001b[38;5;241m=\u001b[39mstream,\n\u001b[1;32m    893\u001b[0m         stream_cls\u001b[38;5;241m=\u001b[39mstream_cls,\n\u001b[1;32m    894\u001b[0m         remaining_retries\u001b[38;5;241m=\u001b[39mremaining_retries,\n\u001b[1;32m    895\u001b[0m     )\n",
      "File \u001b[0;32m~/anaconda3/lib/python3.11/site-packages/openai/_base_client.py:918\u001b[0m, in \u001b[0;36mSyncAPIClient._request\u001b[0;34m(self, cast_to, options, remaining_retries, stream, stream_cls)\u001b[0m\n\u001b[1;32m    915\u001b[0m     kwargs[\u001b[38;5;124m\"\u001b[39m\u001b[38;5;124mauth\u001b[39m\u001b[38;5;124m\"\u001b[39m] \u001b[38;5;241m=\u001b[39m \u001b[38;5;28mself\u001b[39m\u001b[38;5;241m.\u001b[39mcustom_auth\n\u001b[1;32m    917\u001b[0m \u001b[38;5;28;01mtry\u001b[39;00m:\n\u001b[0;32m--> 918\u001b[0m     response \u001b[38;5;241m=\u001b[39m \u001b[38;5;28mself\u001b[39m\u001b[38;5;241m.\u001b[39m_client\u001b[38;5;241m.\u001b[39msend(\n\u001b[1;32m    919\u001b[0m         request,\n\u001b[1;32m    920\u001b[0m         stream\u001b[38;5;241m=\u001b[39mstream \u001b[38;5;129;01mor\u001b[39;00m \u001b[38;5;28mself\u001b[39m\u001b[38;5;241m.\u001b[39m_should_stream_response_body(request\u001b[38;5;241m=\u001b[39mrequest),\n\u001b[1;32m    921\u001b[0m         \u001b[38;5;241m*\u001b[39m\u001b[38;5;241m*\u001b[39mkwargs,\n\u001b[1;32m    922\u001b[0m     )\n\u001b[1;32m    923\u001b[0m \u001b[38;5;28;01mexcept\u001b[39;00m httpx\u001b[38;5;241m.\u001b[39mTimeoutException \u001b[38;5;28;01mas\u001b[39;00m err:\n\u001b[1;32m    924\u001b[0m     log\u001b[38;5;241m.\u001b[39mdebug(\u001b[38;5;124m\"\u001b[39m\u001b[38;5;124mEncountered httpx.TimeoutException\u001b[39m\u001b[38;5;124m\"\u001b[39m, exc_info\u001b[38;5;241m=\u001b[39m\u001b[38;5;28;01mTrue\u001b[39;00m)\n",
      "File \u001b[0;32m~/anaconda3/lib/python3.11/site-packages/httpx/_client.py:901\u001b[0m, in \u001b[0;36mClient.send\u001b[0;34m(self, request, stream, auth, follow_redirects)\u001b[0m\n\u001b[1;32m    893\u001b[0m follow_redirects \u001b[38;5;241m=\u001b[39m (\n\u001b[1;32m    894\u001b[0m     \u001b[38;5;28mself\u001b[39m\u001b[38;5;241m.\u001b[39mfollow_redirects\n\u001b[1;32m    895\u001b[0m     \u001b[38;5;28;01mif\u001b[39;00m \u001b[38;5;28misinstance\u001b[39m(follow_redirects, UseClientDefault)\n\u001b[1;32m    896\u001b[0m     \u001b[38;5;28;01melse\u001b[39;00m follow_redirects\n\u001b[1;32m    897\u001b[0m )\n\u001b[1;32m    899\u001b[0m auth \u001b[38;5;241m=\u001b[39m \u001b[38;5;28mself\u001b[39m\u001b[38;5;241m.\u001b[39m_build_request_auth(request, auth)\n\u001b[0;32m--> 901\u001b[0m response \u001b[38;5;241m=\u001b[39m \u001b[38;5;28mself\u001b[39m\u001b[38;5;241m.\u001b[39m_send_handling_auth(\n\u001b[1;32m    902\u001b[0m     request,\n\u001b[1;32m    903\u001b[0m     auth\u001b[38;5;241m=\u001b[39mauth,\n\u001b[1;32m    904\u001b[0m     follow_redirects\u001b[38;5;241m=\u001b[39mfollow_redirects,\n\u001b[1;32m    905\u001b[0m     history\u001b[38;5;241m=\u001b[39m[],\n\u001b[1;32m    906\u001b[0m )\n\u001b[1;32m    907\u001b[0m \u001b[38;5;28;01mtry\u001b[39;00m:\n\u001b[1;32m    908\u001b[0m     \u001b[38;5;28;01mif\u001b[39;00m \u001b[38;5;129;01mnot\u001b[39;00m stream:\n",
      "File \u001b[0;32m~/anaconda3/lib/python3.11/site-packages/httpx/_client.py:929\u001b[0m, in \u001b[0;36mClient._send_handling_auth\u001b[0;34m(self, request, auth, follow_redirects, history)\u001b[0m\n\u001b[1;32m    926\u001b[0m request \u001b[38;5;241m=\u001b[39m \u001b[38;5;28mnext\u001b[39m(auth_flow)\n\u001b[1;32m    928\u001b[0m \u001b[38;5;28;01mwhile\u001b[39;00m \u001b[38;5;28;01mTrue\u001b[39;00m:\n\u001b[0;32m--> 929\u001b[0m     response \u001b[38;5;241m=\u001b[39m \u001b[38;5;28mself\u001b[39m\u001b[38;5;241m.\u001b[39m_send_handling_redirects(\n\u001b[1;32m    930\u001b[0m         request,\n\u001b[1;32m    931\u001b[0m         follow_redirects\u001b[38;5;241m=\u001b[39mfollow_redirects,\n\u001b[1;32m    932\u001b[0m         history\u001b[38;5;241m=\u001b[39mhistory,\n\u001b[1;32m    933\u001b[0m     )\n\u001b[1;32m    934\u001b[0m     \u001b[38;5;28;01mtry\u001b[39;00m:\n\u001b[1;32m    935\u001b[0m         \u001b[38;5;28;01mtry\u001b[39;00m:\n",
      "File \u001b[0;32m~/anaconda3/lib/python3.11/site-packages/httpx/_client.py:966\u001b[0m, in \u001b[0;36mClient._send_handling_redirects\u001b[0;34m(self, request, follow_redirects, history)\u001b[0m\n\u001b[1;32m    963\u001b[0m \u001b[38;5;28;01mfor\u001b[39;00m hook \u001b[38;5;129;01min\u001b[39;00m \u001b[38;5;28mself\u001b[39m\u001b[38;5;241m.\u001b[39m_event_hooks[\u001b[38;5;124m\"\u001b[39m\u001b[38;5;124mrequest\u001b[39m\u001b[38;5;124m\"\u001b[39m]:\n\u001b[1;32m    964\u001b[0m     hook(request)\n\u001b[0;32m--> 966\u001b[0m response \u001b[38;5;241m=\u001b[39m \u001b[38;5;28mself\u001b[39m\u001b[38;5;241m.\u001b[39m_send_single_request(request)\n\u001b[1;32m    967\u001b[0m \u001b[38;5;28;01mtry\u001b[39;00m:\n\u001b[1;32m    968\u001b[0m     \u001b[38;5;28;01mfor\u001b[39;00m hook \u001b[38;5;129;01min\u001b[39;00m \u001b[38;5;28mself\u001b[39m\u001b[38;5;241m.\u001b[39m_event_hooks[\u001b[38;5;124m\"\u001b[39m\u001b[38;5;124mresponse\u001b[39m\u001b[38;5;124m\"\u001b[39m]:\n",
      "File \u001b[0;32m~/anaconda3/lib/python3.11/site-packages/httpx/_client.py:1002\u001b[0m, in \u001b[0;36mClient._send_single_request\u001b[0;34m(self, request)\u001b[0m\n\u001b[1;32m    997\u001b[0m     \u001b[38;5;28;01mraise\u001b[39;00m \u001b[38;5;167;01mRuntimeError\u001b[39;00m(\n\u001b[1;32m    998\u001b[0m         \u001b[38;5;124m\"\u001b[39m\u001b[38;5;124mAttempted to send an async request with a sync Client instance.\u001b[39m\u001b[38;5;124m\"\u001b[39m\n\u001b[1;32m    999\u001b[0m     )\n\u001b[1;32m   1001\u001b[0m \u001b[38;5;28;01mwith\u001b[39;00m request_context(request\u001b[38;5;241m=\u001b[39mrequest):\n\u001b[0;32m-> 1002\u001b[0m     response \u001b[38;5;241m=\u001b[39m transport\u001b[38;5;241m.\u001b[39mhandle_request(request)\n\u001b[1;32m   1004\u001b[0m \u001b[38;5;28;01massert\u001b[39;00m \u001b[38;5;28misinstance\u001b[39m(response\u001b[38;5;241m.\u001b[39mstream, SyncByteStream)\n\u001b[1;32m   1006\u001b[0m response\u001b[38;5;241m.\u001b[39mrequest \u001b[38;5;241m=\u001b[39m request\n",
      "File \u001b[0;32m~/anaconda3/lib/python3.11/site-packages/httpx/_transports/default.py:218\u001b[0m, in \u001b[0;36mHTTPTransport.handle_request\u001b[0;34m(self, request)\u001b[0m\n\u001b[1;32m    205\u001b[0m req \u001b[38;5;241m=\u001b[39m httpcore\u001b[38;5;241m.\u001b[39mRequest(\n\u001b[1;32m    206\u001b[0m     method\u001b[38;5;241m=\u001b[39mrequest\u001b[38;5;241m.\u001b[39mmethod,\n\u001b[1;32m    207\u001b[0m     url\u001b[38;5;241m=\u001b[39mhttpcore\u001b[38;5;241m.\u001b[39mURL(\n\u001b[0;32m   (...)\u001b[0m\n\u001b[1;32m    215\u001b[0m     extensions\u001b[38;5;241m=\u001b[39mrequest\u001b[38;5;241m.\u001b[39mextensions,\n\u001b[1;32m    216\u001b[0m )\n\u001b[1;32m    217\u001b[0m \u001b[38;5;28;01mwith\u001b[39;00m map_httpcore_exceptions():\n\u001b[0;32m--> 218\u001b[0m     resp \u001b[38;5;241m=\u001b[39m \u001b[38;5;28mself\u001b[39m\u001b[38;5;241m.\u001b[39m_pool\u001b[38;5;241m.\u001b[39mhandle_request(req)\n\u001b[1;32m    220\u001b[0m \u001b[38;5;28;01massert\u001b[39;00m \u001b[38;5;28misinstance\u001b[39m(resp\u001b[38;5;241m.\u001b[39mstream, typing\u001b[38;5;241m.\u001b[39mIterable)\n\u001b[1;32m    222\u001b[0m \u001b[38;5;28;01mreturn\u001b[39;00m Response(\n\u001b[1;32m    223\u001b[0m     status_code\u001b[38;5;241m=\u001b[39mresp\u001b[38;5;241m.\u001b[39mstatus,\n\u001b[1;32m    224\u001b[0m     headers\u001b[38;5;241m=\u001b[39mresp\u001b[38;5;241m.\u001b[39mheaders,\n\u001b[1;32m    225\u001b[0m     stream\u001b[38;5;241m=\u001b[39mResponseStream(resp\u001b[38;5;241m.\u001b[39mstream),\n\u001b[1;32m    226\u001b[0m     extensions\u001b[38;5;241m=\u001b[39mresp\u001b[38;5;241m.\u001b[39mextensions,\n\u001b[1;32m    227\u001b[0m )\n",
      "File \u001b[0;32m~/anaconda3/lib/python3.11/site-packages/httpcore/_sync/connection_pool.py:262\u001b[0m, in \u001b[0;36mConnectionPool.handle_request\u001b[0;34m(self, request)\u001b[0m\n\u001b[1;32m    260\u001b[0m     \u001b[38;5;28;01mwith\u001b[39;00m ShieldCancellation():\n\u001b[1;32m    261\u001b[0m         \u001b[38;5;28mself\u001b[39m\u001b[38;5;241m.\u001b[39mresponse_closed(status)\n\u001b[0;32m--> 262\u001b[0m     \u001b[38;5;28;01mraise\u001b[39;00m exc\n\u001b[1;32m    263\u001b[0m \u001b[38;5;28;01melse\u001b[39;00m:\n\u001b[1;32m    264\u001b[0m     \u001b[38;5;28;01mbreak\u001b[39;00m\n",
      "File \u001b[0;32m~/anaconda3/lib/python3.11/site-packages/httpcore/_sync/connection_pool.py:245\u001b[0m, in \u001b[0;36mConnectionPool.handle_request\u001b[0;34m(self, request)\u001b[0m\n\u001b[1;32m    242\u001b[0m         \u001b[38;5;28;01mraise\u001b[39;00m exc\n\u001b[1;32m    244\u001b[0m \u001b[38;5;28;01mtry\u001b[39;00m:\n\u001b[0;32m--> 245\u001b[0m     response \u001b[38;5;241m=\u001b[39m connection\u001b[38;5;241m.\u001b[39mhandle_request(request)\n\u001b[1;32m    246\u001b[0m \u001b[38;5;28;01mexcept\u001b[39;00m ConnectionNotAvailable:\n\u001b[1;32m    247\u001b[0m     \u001b[38;5;66;03m# The ConnectionNotAvailable exception is a special case, that\u001b[39;00m\n\u001b[1;32m    248\u001b[0m     \u001b[38;5;66;03m# indicates we need to retry the request on a new connection.\u001b[39;00m\n\u001b[0;32m   (...)\u001b[0m\n\u001b[1;32m    252\u001b[0m     \u001b[38;5;66;03m# might end up as an HTTP/2 connection, but which actually ends\u001b[39;00m\n\u001b[1;32m    253\u001b[0m     \u001b[38;5;66;03m# up as HTTP/1.1.\u001b[39;00m\n\u001b[1;32m    254\u001b[0m     \u001b[38;5;28;01mwith\u001b[39;00m \u001b[38;5;28mself\u001b[39m\u001b[38;5;241m.\u001b[39m_pool_lock:\n\u001b[1;32m    255\u001b[0m         \u001b[38;5;66;03m# Maintain our position in the request queue, but reset the\u001b[39;00m\n\u001b[1;32m    256\u001b[0m         \u001b[38;5;66;03m# status so that the request becomes queued again.\u001b[39;00m\n",
      "File \u001b[0;32m~/anaconda3/lib/python3.11/site-packages/httpcore/_sync/connection.py:96\u001b[0m, in \u001b[0;36mHTTPConnection.handle_request\u001b[0;34m(self, request)\u001b[0m\n\u001b[1;32m     93\u001b[0m     \u001b[38;5;28;01melif\u001b[39;00m \u001b[38;5;129;01mnot\u001b[39;00m \u001b[38;5;28mself\u001b[39m\u001b[38;5;241m.\u001b[39m_connection\u001b[38;5;241m.\u001b[39mis_available():\n\u001b[1;32m     94\u001b[0m         \u001b[38;5;28;01mraise\u001b[39;00m ConnectionNotAvailable()\n\u001b[0;32m---> 96\u001b[0m \u001b[38;5;28;01mreturn\u001b[39;00m \u001b[38;5;28mself\u001b[39m\u001b[38;5;241m.\u001b[39m_connection\u001b[38;5;241m.\u001b[39mhandle_request(request)\n",
      "File \u001b[0;32m~/anaconda3/lib/python3.11/site-packages/httpcore/_sync/http11.py:121\u001b[0m, in \u001b[0;36mHTTP11Connection.handle_request\u001b[0;34m(self, request)\u001b[0m\n\u001b[1;32m    119\u001b[0m     \u001b[38;5;28;01mwith\u001b[39;00m Trace(\u001b[38;5;124m\"\u001b[39m\u001b[38;5;124mresponse_closed\u001b[39m\u001b[38;5;124m\"\u001b[39m, logger, request) \u001b[38;5;28;01mas\u001b[39;00m trace:\n\u001b[1;32m    120\u001b[0m         \u001b[38;5;28mself\u001b[39m\u001b[38;5;241m.\u001b[39m_response_closed()\n\u001b[0;32m--> 121\u001b[0m \u001b[38;5;28;01mraise\u001b[39;00m exc\n",
      "File \u001b[0;32m~/anaconda3/lib/python3.11/site-packages/httpcore/_sync/http11.py:99\u001b[0m, in \u001b[0;36mHTTP11Connection.handle_request\u001b[0;34m(self, request)\u001b[0m\n\u001b[1;32m     90\u001b[0m     \u001b[38;5;28mself\u001b[39m\u001b[38;5;241m.\u001b[39m_send_request_body(\u001b[38;5;241m*\u001b[39m\u001b[38;5;241m*\u001b[39mkwargs)\n\u001b[1;32m     91\u001b[0m \u001b[38;5;28;01mwith\u001b[39;00m Trace(\n\u001b[1;32m     92\u001b[0m     \u001b[38;5;124m\"\u001b[39m\u001b[38;5;124mreceive_response_headers\u001b[39m\u001b[38;5;124m\"\u001b[39m, logger, request, kwargs\n\u001b[1;32m     93\u001b[0m ) \u001b[38;5;28;01mas\u001b[39;00m trace:\n\u001b[1;32m     94\u001b[0m     (\n\u001b[1;32m     95\u001b[0m         http_version,\n\u001b[1;32m     96\u001b[0m         status,\n\u001b[1;32m     97\u001b[0m         reason_phrase,\n\u001b[1;32m     98\u001b[0m         headers,\n\u001b[0;32m---> 99\u001b[0m     ) \u001b[38;5;241m=\u001b[39m \u001b[38;5;28mself\u001b[39m\u001b[38;5;241m.\u001b[39m_receive_response_headers(\u001b[38;5;241m*\u001b[39m\u001b[38;5;241m*\u001b[39mkwargs)\n\u001b[1;32m    100\u001b[0m     trace\u001b[38;5;241m.\u001b[39mreturn_value \u001b[38;5;241m=\u001b[39m (\n\u001b[1;32m    101\u001b[0m         http_version,\n\u001b[1;32m    102\u001b[0m         status,\n\u001b[1;32m    103\u001b[0m         reason_phrase,\n\u001b[1;32m    104\u001b[0m         headers,\n\u001b[1;32m    105\u001b[0m     )\n\u001b[1;32m    107\u001b[0m \u001b[38;5;28;01mreturn\u001b[39;00m Response(\n\u001b[1;32m    108\u001b[0m     status\u001b[38;5;241m=\u001b[39mstatus,\n\u001b[1;32m    109\u001b[0m     headers\u001b[38;5;241m=\u001b[39mheaders,\n\u001b[0;32m   (...)\u001b[0m\n\u001b[1;32m    115\u001b[0m     },\n\u001b[1;32m    116\u001b[0m )\n",
      "File \u001b[0;32m~/anaconda3/lib/python3.11/site-packages/httpcore/_sync/http11.py:164\u001b[0m, in \u001b[0;36mHTTP11Connection._receive_response_headers\u001b[0;34m(self, request)\u001b[0m\n\u001b[1;32m    161\u001b[0m timeout \u001b[38;5;241m=\u001b[39m timeouts\u001b[38;5;241m.\u001b[39mget(\u001b[38;5;124m\"\u001b[39m\u001b[38;5;124mread\u001b[39m\u001b[38;5;124m\"\u001b[39m, \u001b[38;5;28;01mNone\u001b[39;00m)\n\u001b[1;32m    163\u001b[0m \u001b[38;5;28;01mwhile\u001b[39;00m \u001b[38;5;28;01mTrue\u001b[39;00m:\n\u001b[0;32m--> 164\u001b[0m     event \u001b[38;5;241m=\u001b[39m \u001b[38;5;28mself\u001b[39m\u001b[38;5;241m.\u001b[39m_receive_event(timeout\u001b[38;5;241m=\u001b[39mtimeout)\n\u001b[1;32m    165\u001b[0m     \u001b[38;5;28;01mif\u001b[39;00m \u001b[38;5;28misinstance\u001b[39m(event, h11\u001b[38;5;241m.\u001b[39mResponse):\n\u001b[1;32m    166\u001b[0m         \u001b[38;5;28;01mbreak\u001b[39;00m\n",
      "File \u001b[0;32m~/anaconda3/lib/python3.11/site-packages/httpcore/_sync/http11.py:200\u001b[0m, in \u001b[0;36mHTTP11Connection._receive_event\u001b[0;34m(self, timeout)\u001b[0m\n\u001b[1;32m    197\u001b[0m     event \u001b[38;5;241m=\u001b[39m \u001b[38;5;28mself\u001b[39m\u001b[38;5;241m.\u001b[39m_h11_state\u001b[38;5;241m.\u001b[39mnext_event()\n\u001b[1;32m    199\u001b[0m \u001b[38;5;28;01mif\u001b[39;00m event \u001b[38;5;129;01mis\u001b[39;00m h11\u001b[38;5;241m.\u001b[39mNEED_DATA:\n\u001b[0;32m--> 200\u001b[0m     data \u001b[38;5;241m=\u001b[39m \u001b[38;5;28mself\u001b[39m\u001b[38;5;241m.\u001b[39m_network_stream\u001b[38;5;241m.\u001b[39mread(\n\u001b[1;32m    201\u001b[0m         \u001b[38;5;28mself\u001b[39m\u001b[38;5;241m.\u001b[39mREAD_NUM_BYTES, timeout\u001b[38;5;241m=\u001b[39mtimeout\n\u001b[1;32m    202\u001b[0m     )\n\u001b[1;32m    204\u001b[0m     \u001b[38;5;66;03m# If we feed this case through h11 we'll raise an exception like:\u001b[39;00m\n\u001b[1;32m    205\u001b[0m     \u001b[38;5;66;03m#\u001b[39;00m\n\u001b[1;32m    206\u001b[0m     \u001b[38;5;66;03m#     httpcore.RemoteProtocolError: can't handle event type\u001b[39;00m\n\u001b[0;32m   (...)\u001b[0m\n\u001b[1;32m    210\u001b[0m     \u001b[38;5;66;03m# perspective. Instead we handle this case distinctly and treat\u001b[39;00m\n\u001b[1;32m    211\u001b[0m     \u001b[38;5;66;03m# it as a ConnectError.\u001b[39;00m\n\u001b[1;32m    212\u001b[0m     \u001b[38;5;28;01mif\u001b[39;00m data \u001b[38;5;241m==\u001b[39m \u001b[38;5;124mb\u001b[39m\u001b[38;5;124m\"\u001b[39m\u001b[38;5;124m\"\u001b[39m \u001b[38;5;129;01mand\u001b[39;00m \u001b[38;5;28mself\u001b[39m\u001b[38;5;241m.\u001b[39m_h11_state\u001b[38;5;241m.\u001b[39mtheir_state \u001b[38;5;241m==\u001b[39m h11\u001b[38;5;241m.\u001b[39mSEND_RESPONSE:\n",
      "File \u001b[0;32m~/anaconda3/lib/python3.11/site-packages/httpcore/_backends/sync.py:28\u001b[0m, in \u001b[0;36mSyncStream.read\u001b[0;34m(self, max_bytes, timeout)\u001b[0m\n\u001b[1;32m     26\u001b[0m \u001b[38;5;28;01mwith\u001b[39;00m map_exceptions(exc_map):\n\u001b[1;32m     27\u001b[0m     \u001b[38;5;28mself\u001b[39m\u001b[38;5;241m.\u001b[39m_sock\u001b[38;5;241m.\u001b[39msettimeout(timeout)\n\u001b[0;32m---> 28\u001b[0m     \u001b[38;5;28;01mreturn\u001b[39;00m \u001b[38;5;28mself\u001b[39m\u001b[38;5;241m.\u001b[39m_sock\u001b[38;5;241m.\u001b[39mrecv(max_bytes)\n",
      "File \u001b[0;32m~/anaconda3/lib/python3.11/ssl.py:1296\u001b[0m, in \u001b[0;36mSSLSocket.recv\u001b[0;34m(self, buflen, flags)\u001b[0m\n\u001b[1;32m   1292\u001b[0m     \u001b[38;5;28;01mif\u001b[39;00m flags \u001b[38;5;241m!=\u001b[39m \u001b[38;5;241m0\u001b[39m:\n\u001b[1;32m   1293\u001b[0m         \u001b[38;5;28;01mraise\u001b[39;00m \u001b[38;5;167;01mValueError\u001b[39;00m(\n\u001b[1;32m   1294\u001b[0m             \u001b[38;5;124m\"\u001b[39m\u001b[38;5;124mnon-zero flags not allowed in calls to recv() on \u001b[39m\u001b[38;5;132;01m%s\u001b[39;00m\u001b[38;5;124m\"\u001b[39m \u001b[38;5;241m%\u001b[39m\n\u001b[1;32m   1295\u001b[0m             \u001b[38;5;28mself\u001b[39m\u001b[38;5;241m.\u001b[39m\u001b[38;5;18m__class__\u001b[39m)\n\u001b[0;32m-> 1296\u001b[0m     \u001b[38;5;28;01mreturn\u001b[39;00m \u001b[38;5;28mself\u001b[39m\u001b[38;5;241m.\u001b[39mread(buflen)\n\u001b[1;32m   1297\u001b[0m \u001b[38;5;28;01melse\u001b[39;00m:\n\u001b[1;32m   1298\u001b[0m     \u001b[38;5;28;01mreturn\u001b[39;00m \u001b[38;5;28msuper\u001b[39m()\u001b[38;5;241m.\u001b[39mrecv(buflen, flags)\n",
      "File \u001b[0;32m~/anaconda3/lib/python3.11/ssl.py:1169\u001b[0m, in \u001b[0;36mSSLSocket.read\u001b[0;34m(self, len, buffer)\u001b[0m\n\u001b[1;32m   1167\u001b[0m         \u001b[38;5;28;01mreturn\u001b[39;00m \u001b[38;5;28mself\u001b[39m\u001b[38;5;241m.\u001b[39m_sslobj\u001b[38;5;241m.\u001b[39mread(\u001b[38;5;28mlen\u001b[39m, buffer)\n\u001b[1;32m   1168\u001b[0m     \u001b[38;5;28;01melse\u001b[39;00m:\n\u001b[0;32m-> 1169\u001b[0m         \u001b[38;5;28;01mreturn\u001b[39;00m \u001b[38;5;28mself\u001b[39m\u001b[38;5;241m.\u001b[39m_sslobj\u001b[38;5;241m.\u001b[39mread(\u001b[38;5;28mlen\u001b[39m)\n\u001b[1;32m   1170\u001b[0m \u001b[38;5;28;01mexcept\u001b[39;00m SSLError \u001b[38;5;28;01mas\u001b[39;00m x:\n\u001b[1;32m   1171\u001b[0m     \u001b[38;5;28;01mif\u001b[39;00m x\u001b[38;5;241m.\u001b[39margs[\u001b[38;5;241m0\u001b[39m] \u001b[38;5;241m==\u001b[39m SSL_ERROR_EOF \u001b[38;5;129;01mand\u001b[39;00m \u001b[38;5;28mself\u001b[39m\u001b[38;5;241m.\u001b[39msuppress_ragged_eofs:\n",
      "\u001b[0;31mKeyboardInterrupt\u001b[0m: "
     ]
    }
   ],
   "source": [
    "# Create reasoning\n",
    "while True:\n",
    "    jq_filter = condense_response(reasoning)\n",
    "    try:\n",
    "        transformed_data = jq.compile(jq_filter).input(gcal).all()\n",
    "        \n",
    "        match_results = verify_match(transformed_data, desired_schema)\n",
    "        \n",
    "        if \"false\" in match_results.lower():\n",
    "            err = f\"\"\"Received different output from the schema expected.\n",
    "\n",
    "Output: {transformed_data}\n",
    "\n",
    "Desired: {desired_schema}\n",
    "\"\"\"\n",
    "            print(err)\n",
    "            raise Exception()\n",
    "        \n",
    "        print(jq_filter)\n",
    "        print(transformed_data)\n",
    "        \n",
    "        print('----')\n",
    "        break\n",
    "    except Exception as e:\n",
    "        print(str(e))\n",
    "        print('****')\n",
    "        jq_filter = condense_response(reasoning, jq_filter, str(e))\n"
   ]
  },
  {
   "cell_type": "code",
   "execution_count": null,
   "id": "755e5d1b",
   "metadata": {},
   "outputs": [],
   "source": [
    "print(json.dumps(transformed_data, indent=2))"
   ]
  },
  {
   "cell_type": "markdown",
   "id": "cd55fe82",
   "metadata": {},
   "source": [
    "## Create regex/something for converting/pulling keys from data output"
   ]
  },
  {
   "cell_type": "code",
   "execution_count": 102,
   "id": "9ead36c4",
   "metadata": {},
   "outputs": [],
   "source": [
    "def get_data(schema, keys):\n",
    "    # Check if there's more than one key left for recursion\n",
    "    if type(keys) == list and len(keys) > 1:\n",
    "        # Recursively navigate down the schema\n",
    "        return get_data(schema[keys[0]], keys[1:])\n",
    "    else:\n",
    "        # Return the value of the last key\n",
    "        return schema[keys[0]]  # This should access the key at keys[0], not keys"
   ]
  },
  {
   "cell_type": "code",
   "execution_count": 103,
   "id": "b2aed104",
   "metadata": {},
   "outputs": [
    {
     "data": {
      "text/plain": [
       "'2024-02-15T09:00:00Z'"
      ]
     },
     "execution_count": 103,
     "metadata": {},
     "output_type": "execute_result"
    }
   ],
   "source": [
    "get_data(gcal, nested_keys)"
   ]
  },
  {
   "cell_type": "markdown",
   "id": "df9dce1f",
   "metadata": {},
   "source": [
    "### Testing it out:\n",
    "Gcal"
   ]
  },
  {
   "cell_type": "code",
   "execution_count": 18,
   "id": "34ca5655",
   "metadata": {},
   "outputs": [
    {
     "data": {
      "text/plain": [
       "{'$schema': 'http://json-schema.org/draft-07/schema#',\n",
       " 'type': 'object',\n",
       " 'properties': {'id': {'type': 'string'},\n",
       "  'start_time': {'$ref': '#/$defs/timestamp'},\n",
       "  'end_time': {'$ref': '#/$defs/timestamp'},\n",
       "  'time_zone': {'type': 'string'},\n",
       "  'status': {'type': 'string', 'enum': ['confirmed', 'busy', 'tentative']},\n",
       "  'location': {'type': 'string'},\n",
       "  'summary': {'type': 'string'},\n",
       "  'subject': {'type': 'string'},\n",
       "  'recurrance': {'type': 'boolean'},\n",
       "  'visibility': {'type': 'string'}},\n",
       " 'required': ['id',\n",
       "  'start_time',\n",
       "  'end_time',\n",
       "  'status',\n",
       "  'subject',\n",
       "  'recurrance',\n",
       "  'visibility'],\n",
       " '$defs': {'timestamp': {'type': 'string', 'format': 'date-time'}}}"
      ]
     },
     "execution_count": 18,
     "metadata": {},
     "output_type": "execute_result"
    }
   ],
   "source": [
    "desired_schema"
   ]
  },
  {
   "cell_type": "code",
   "execution_count": 104,
   "id": "bb0a1ec6",
   "metadata": {},
   "outputs": [
    {
     "name": "stdout",
     "output_type": "stream",
     "text": [
      "['id', 'start_time', 'end_time', 'time_zone', 'status', 'location', 'summary', 'subject', 'recurrance', 'visibility']\n"
     ]
    }
   ],
   "source": [
    "print(list(desired_schema['properties'].keys()))"
   ]
  },
  {
   "cell_type": "code",
   "execution_count": 155,
   "id": "c7cf694d",
   "metadata": {
    "scrolled": true
   },
   "outputs": [
    {
     "name": "stdout",
     "output_type": "stream",
     "text": [
      "id: 123abc456def\n",
      "start_time: 2024-02-15T09:00:00Z\n",
      "end_time: 2024-02-15T10:00:00Z\n",
      "time_zone: America/New_York\n",
      "status: confirmed\n",
      "location: Conference Room B, 123 Business Rd, City, Country\n",
      "summary: Project Launch Meeting\n",
      "subject: Project Launch Meeting\n",
      "recurrance: ['RRULE:FREQ=WEEKLY;COUNT=4']\n",
      "visibility: public\n"
     ]
    }
   ],
   "source": [
    "for key in desired_schema['properties']:\n",
    "    nested_keys = get_nested_keys(gcal, key)\n",
    "    print(f\"{key}: {get_data(gcal, nested_keys)}\")"
   ]
  }
 ],
 "metadata": {
  "celltoolbar": "Raw Cell Format",
  "kernelspec": {
   "display_name": "Python 3 (ipykernel)",
   "language": "python",
   "name": "python3"
  },
  "language_info": {
   "codemirror_mode": {
    "name": "ipython",
    "version": 3
   },
   "file_extension": ".py",
   "mimetype": "text/x-python",
   "name": "python",
   "nbconvert_exporter": "python",
   "pygments_lexer": "ipython3",
   "version": "3.11.5"
  }
 },
 "nbformat": 4,
 "nbformat_minor": 5
}
